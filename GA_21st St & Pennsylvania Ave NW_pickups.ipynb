{
 "cells": [
  {
   "cell_type": "code",
   "execution_count": 1,
   "id": "71f2d692",
   "metadata": {},
   "outputs": [],
   "source": [
    "import pandas as pd\n",
    "import numpy as np\n",
    "import matplotlib.pyplot as plt\n",
    "import matplotlib.dates as mdates\n",
    "import seaborn as sns\n",
    "from sklearn.linear_model import LinearRegression, Ridge, RidgeCV, Lasso, LassoCV\n",
    "from sklearn.preprocessing import scale "
   ]
  },
  {
   "cell_type": "markdown",
   "id": "55a91441",
   "metadata": {},
   "source": [
    "### Capital Bikeshare Data\n",
    "https://ride.capitalbikeshare.com/system-data\n",
    "\n",
    "We deal with data from Jan to Apr in 2022"
   ]
  },
  {
   "cell_type": "code",
   "execution_count": 2,
   "id": "665bc200",
   "metadata": {},
   "outputs": [],
   "source": [
    "# read csv files\n",
    "df_Jan=pd.read_csv('Data/202201-capitalbikeshare-tripdata.csv')\n",
    "df_Feb=pd.read_csv('Data/202202-capitalbikeshare-tripdata.csv')\n",
    "df_Mar=pd.read_csv('Data/202203-capitalbikeshare-tripdata.csv')\n",
    "df_Apr=pd.read_csv('Data/202204-capitalbikeshare-tripdata.csv')"
   ]
  },
  {
   "cell_type": "code",
   "execution_count": 3,
   "id": "e370c1f7",
   "metadata": {},
   "outputs": [
    {
     "name": "stdout",
     "output_type": "stream",
     "text": [
      "<class 'pandas.core.frame.DataFrame'>\n",
      "Int64Index: 828621 entries, 0 to 310434\n",
      "Data columns (total 13 columns):\n",
      " #   Column              Non-Null Count   Dtype  \n",
      "---  ------              --------------   -----  \n",
      " 0   ride_id             828621 non-null  object \n",
      " 1   rideable_type       828621 non-null  object \n",
      " 2   started_at          828621 non-null  object \n",
      " 3   ended_at            828621 non-null  object \n",
      " 4   start_station_name  792027 non-null  object \n",
      " 5   start_station_id    792027 non-null  float64\n",
      " 6   end_station_name    786251 non-null  object \n",
      " 7   end_station_id      786251 non-null  float64\n",
      " 8   start_lat           828621 non-null  float64\n",
      " 9   start_lng           828621 non-null  float64\n",
      " 10  end_lat             827170 non-null  float64\n",
      " 11  end_lng             827170 non-null  float64\n",
      " 12  member_casual       828621 non-null  object \n",
      "dtypes: float64(6), object(7)\n",
      "memory usage: 88.5+ MB\n"
     ]
    }
   ],
   "source": [
    "# concat data\n",
    "df=pd.concat([df_Jan,df_Feb,df_Mar,df_Apr])\n",
    "df.info()"
   ]
  },
  {
   "cell_type": "code",
   "execution_count": 4,
   "id": "6e4405c7",
   "metadata": {},
   "outputs": [
    {
     "data": {
      "text/html": [
       "<div>\n",
       "<style scoped>\n",
       "    .dataframe tbody tr th:only-of-type {\n",
       "        vertical-align: middle;\n",
       "    }\n",
       "\n",
       "    .dataframe tbody tr th {\n",
       "        vertical-align: top;\n",
       "    }\n",
       "\n",
       "    .dataframe thead th {\n",
       "        text-align: right;\n",
       "    }\n",
       "</style>\n",
       "<table border=\"1\" class=\"dataframe\">\n",
       "  <thead>\n",
       "    <tr style=\"text-align: right;\">\n",
       "      <th></th>\n",
       "      <th>ride_id</th>\n",
       "      <th>rideable_type</th>\n",
       "      <th>started_at</th>\n",
       "      <th>ended_at</th>\n",
       "      <th>start_station_name</th>\n",
       "      <th>start_station_id</th>\n",
       "      <th>end_station_name</th>\n",
       "      <th>end_station_id</th>\n",
       "      <th>start_lat</th>\n",
       "      <th>start_lng</th>\n",
       "      <th>end_lat</th>\n",
       "      <th>end_lng</th>\n",
       "      <th>member_casual</th>\n",
       "    </tr>\n",
       "  </thead>\n",
       "  <tbody>\n",
       "    <tr>\n",
       "      <th>0</th>\n",
       "      <td>1B4445D591115BD9</td>\n",
       "      <td>classic_bike</td>\n",
       "      <td>2022-01-06 18:39:28</td>\n",
       "      <td>2022-01-06 18:43:03</td>\n",
       "      <td>Monroe Ave &amp; Leslie Ave</td>\n",
       "      <td>31087.0</td>\n",
       "      <td>Potomac Ave &amp; Main Line Blvd</td>\n",
       "      <td>31910.0</td>\n",
       "      <td>38.820932</td>\n",
       "      <td>-77.053096</td>\n",
       "      <td>38.822738</td>\n",
       "      <td>-77.049265</td>\n",
       "      <td>member</td>\n",
       "    </tr>\n",
       "    <tr>\n",
       "      <th>1</th>\n",
       "      <td>7F4A0E2F03EADEB7</td>\n",
       "      <td>classic_bike</td>\n",
       "      <td>2022-01-31 19:21:22</td>\n",
       "      <td>2022-01-31 19:27:33</td>\n",
       "      <td>14th &amp; L St NW</td>\n",
       "      <td>31283.0</td>\n",
       "      <td>10th &amp; G St NW</td>\n",
       "      <td>31274.0</td>\n",
       "      <td>38.903658</td>\n",
       "      <td>-77.031737</td>\n",
       "      <td>38.898243</td>\n",
       "      <td>-77.026235</td>\n",
       "      <td>member</td>\n",
       "    </tr>\n",
       "    <tr>\n",
       "      <th>2</th>\n",
       "      <td>30DD8A84164843AD</td>\n",
       "      <td>classic_bike</td>\n",
       "      <td>2022-01-07 15:28:39</td>\n",
       "      <td>2022-01-07 15:31:01</td>\n",
       "      <td>14th &amp; L St NW</td>\n",
       "      <td>31283.0</td>\n",
       "      <td>12th &amp; L St NW</td>\n",
       "      <td>31251.0</td>\n",
       "      <td>38.903658</td>\n",
       "      <td>-77.031737</td>\n",
       "      <td>38.903819</td>\n",
       "      <td>-77.028400</td>\n",
       "      <td>member</td>\n",
       "    </tr>\n",
       "    <tr>\n",
       "      <th>3</th>\n",
       "      <td>FC67665D7682D0A6</td>\n",
       "      <td>classic_bike</td>\n",
       "      <td>2022-01-27 20:09:25</td>\n",
       "      <td>2022-01-27 20:37:02</td>\n",
       "      <td>New York Ave &amp; Hecht Ave NE</td>\n",
       "      <td>31518.0</td>\n",
       "      <td>Nannie Helen Burroughs &amp; Minnesota Ave NE</td>\n",
       "      <td>31704.0</td>\n",
       "      <td>38.915604</td>\n",
       "      <td>-76.983683</td>\n",
       "      <td>38.901385</td>\n",
       "      <td>-76.941877</td>\n",
       "      <td>casual</td>\n",
       "    </tr>\n",
       "    <tr>\n",
       "      <th>4</th>\n",
       "      <td>7854F7CC4F631A1E</td>\n",
       "      <td>classic_bike</td>\n",
       "      <td>2022-01-07 16:14:28</td>\n",
       "      <td>2022-01-07 16:16:13</td>\n",
       "      <td>Falls Church City Hall / Park Ave &amp; Little Fal...</td>\n",
       "      <td>32608.0</td>\n",
       "      <td>Pennsylvania Ave &amp; Park Ave</td>\n",
       "      <td>32603.0</td>\n",
       "      <td>38.885434</td>\n",
       "      <td>-77.173605</td>\n",
       "      <td>38.887403</td>\n",
       "      <td>-77.176992</td>\n",
       "      <td>member</td>\n",
       "    </tr>\n",
       "  </tbody>\n",
       "</table>\n",
       "</div>"
      ],
      "text/plain": [
       "            ride_id rideable_type           started_at             ended_at  \\\n",
       "0  1B4445D591115BD9  classic_bike  2022-01-06 18:39:28  2022-01-06 18:43:03   \n",
       "1  7F4A0E2F03EADEB7  classic_bike  2022-01-31 19:21:22  2022-01-31 19:27:33   \n",
       "2  30DD8A84164843AD  classic_bike  2022-01-07 15:28:39  2022-01-07 15:31:01   \n",
       "3  FC67665D7682D0A6  classic_bike  2022-01-27 20:09:25  2022-01-27 20:37:02   \n",
       "4  7854F7CC4F631A1E  classic_bike  2022-01-07 16:14:28  2022-01-07 16:16:13   \n",
       "\n",
       "                                  start_station_name  start_station_id  \\\n",
       "0                            Monroe Ave & Leslie Ave           31087.0   \n",
       "1                                     14th & L St NW           31283.0   \n",
       "2                                     14th & L St NW           31283.0   \n",
       "3                        New York Ave & Hecht Ave NE           31518.0   \n",
       "4  Falls Church City Hall / Park Ave & Little Fal...           32608.0   \n",
       "\n",
       "                            end_station_name  end_station_id  start_lat  \\\n",
       "0               Potomac Ave & Main Line Blvd         31910.0  38.820932   \n",
       "1                             10th & G St NW         31274.0  38.903658   \n",
       "2                             12th & L St NW         31251.0  38.903658   \n",
       "3  Nannie Helen Burroughs & Minnesota Ave NE         31704.0  38.915604   \n",
       "4                Pennsylvania Ave & Park Ave         32603.0  38.885434   \n",
       "\n",
       "   start_lng    end_lat    end_lng member_casual  \n",
       "0 -77.053096  38.822738 -77.049265        member  \n",
       "1 -77.031737  38.898243 -77.026235        member  \n",
       "2 -77.031737  38.903819 -77.028400        member  \n",
       "3 -76.983683  38.901385 -76.941877        casual  \n",
       "4 -77.173605  38.887403 -77.176992        member  "
      ]
     },
     "execution_count": 4,
     "metadata": {},
     "output_type": "execute_result"
    }
   ],
   "source": [
    "df.head()"
   ]
  },
  {
   "cell_type": "markdown",
   "id": "1520a1db",
   "metadata": {},
   "source": [
    "### Be careful when dealing with time and date"
   ]
  },
  {
   "cell_type": "code",
   "execution_count": 5,
   "id": "5f55be11",
   "metadata": {},
   "outputs": [],
   "source": [
    "# Transform time to date ONLY\n",
    "df['started_at_date'] = pd.to_datetime(df['started_at']).dt.date\n",
    "df['ended_at_date'] = pd.to_datetime(df['ended_at']).dt.date"
   ]
  },
  {
   "cell_type": "code",
   "execution_count": 6,
   "id": "88f12e86",
   "metadata": {},
   "outputs": [
    {
     "data": {
      "text/html": [
       "<div>\n",
       "<style scoped>\n",
       "    .dataframe tbody tr th:only-of-type {\n",
       "        vertical-align: middle;\n",
       "    }\n",
       "\n",
       "    .dataframe tbody tr th {\n",
       "        vertical-align: top;\n",
       "    }\n",
       "\n",
       "    .dataframe thead th {\n",
       "        text-align: right;\n",
       "    }\n",
       "</style>\n",
       "<table border=\"1\" class=\"dataframe\">\n",
       "  <thead>\n",
       "    <tr style=\"text-align: right;\">\n",
       "      <th></th>\n",
       "      <th>ride_id</th>\n",
       "      <th>rideable_type</th>\n",
       "      <th>started_at</th>\n",
       "      <th>ended_at</th>\n",
       "      <th>start_station_name</th>\n",
       "      <th>start_station_id</th>\n",
       "      <th>end_station_name</th>\n",
       "      <th>end_station_id</th>\n",
       "      <th>start_lat</th>\n",
       "      <th>start_lng</th>\n",
       "      <th>end_lat</th>\n",
       "      <th>end_lng</th>\n",
       "      <th>member_casual</th>\n",
       "      <th>started_at_date</th>\n",
       "      <th>ended_at_date</th>\n",
       "    </tr>\n",
       "  </thead>\n",
       "  <tbody>\n",
       "    <tr>\n",
       "      <th>0</th>\n",
       "      <td>1B4445D591115BD9</td>\n",
       "      <td>classic_bike</td>\n",
       "      <td>2022-01-06 18:39:28</td>\n",
       "      <td>2022-01-06 18:43:03</td>\n",
       "      <td>Monroe Ave &amp; Leslie Ave</td>\n",
       "      <td>31087.0</td>\n",
       "      <td>Potomac Ave &amp; Main Line Blvd</td>\n",
       "      <td>31910.0</td>\n",
       "      <td>38.820932</td>\n",
       "      <td>-77.053096</td>\n",
       "      <td>38.822738</td>\n",
       "      <td>-77.049265</td>\n",
       "      <td>member</td>\n",
       "      <td>2022-01-06</td>\n",
       "      <td>2022-01-06</td>\n",
       "    </tr>\n",
       "    <tr>\n",
       "      <th>1</th>\n",
       "      <td>7F4A0E2F03EADEB7</td>\n",
       "      <td>classic_bike</td>\n",
       "      <td>2022-01-31 19:21:22</td>\n",
       "      <td>2022-01-31 19:27:33</td>\n",
       "      <td>14th &amp; L St NW</td>\n",
       "      <td>31283.0</td>\n",
       "      <td>10th &amp; G St NW</td>\n",
       "      <td>31274.0</td>\n",
       "      <td>38.903658</td>\n",
       "      <td>-77.031737</td>\n",
       "      <td>38.898243</td>\n",
       "      <td>-77.026235</td>\n",
       "      <td>member</td>\n",
       "      <td>2022-01-31</td>\n",
       "      <td>2022-01-31</td>\n",
       "    </tr>\n",
       "    <tr>\n",
       "      <th>2</th>\n",
       "      <td>30DD8A84164843AD</td>\n",
       "      <td>classic_bike</td>\n",
       "      <td>2022-01-07 15:28:39</td>\n",
       "      <td>2022-01-07 15:31:01</td>\n",
       "      <td>14th &amp; L St NW</td>\n",
       "      <td>31283.0</td>\n",
       "      <td>12th &amp; L St NW</td>\n",
       "      <td>31251.0</td>\n",
       "      <td>38.903658</td>\n",
       "      <td>-77.031737</td>\n",
       "      <td>38.903819</td>\n",
       "      <td>-77.028400</td>\n",
       "      <td>member</td>\n",
       "      <td>2022-01-07</td>\n",
       "      <td>2022-01-07</td>\n",
       "    </tr>\n",
       "    <tr>\n",
       "      <th>3</th>\n",
       "      <td>FC67665D7682D0A6</td>\n",
       "      <td>classic_bike</td>\n",
       "      <td>2022-01-27 20:09:25</td>\n",
       "      <td>2022-01-27 20:37:02</td>\n",
       "      <td>New York Ave &amp; Hecht Ave NE</td>\n",
       "      <td>31518.0</td>\n",
       "      <td>Nannie Helen Burroughs &amp; Minnesota Ave NE</td>\n",
       "      <td>31704.0</td>\n",
       "      <td>38.915604</td>\n",
       "      <td>-76.983683</td>\n",
       "      <td>38.901385</td>\n",
       "      <td>-76.941877</td>\n",
       "      <td>casual</td>\n",
       "      <td>2022-01-27</td>\n",
       "      <td>2022-01-27</td>\n",
       "    </tr>\n",
       "    <tr>\n",
       "      <th>4</th>\n",
       "      <td>7854F7CC4F631A1E</td>\n",
       "      <td>classic_bike</td>\n",
       "      <td>2022-01-07 16:14:28</td>\n",
       "      <td>2022-01-07 16:16:13</td>\n",
       "      <td>Falls Church City Hall / Park Ave &amp; Little Fal...</td>\n",
       "      <td>32608.0</td>\n",
       "      <td>Pennsylvania Ave &amp; Park Ave</td>\n",
       "      <td>32603.0</td>\n",
       "      <td>38.885434</td>\n",
       "      <td>-77.173605</td>\n",
       "      <td>38.887403</td>\n",
       "      <td>-77.176992</td>\n",
       "      <td>member</td>\n",
       "      <td>2022-01-07</td>\n",
       "      <td>2022-01-07</td>\n",
       "    </tr>\n",
       "  </tbody>\n",
       "</table>\n",
       "</div>"
      ],
      "text/plain": [
       "            ride_id rideable_type           started_at             ended_at  \\\n",
       "0  1B4445D591115BD9  classic_bike  2022-01-06 18:39:28  2022-01-06 18:43:03   \n",
       "1  7F4A0E2F03EADEB7  classic_bike  2022-01-31 19:21:22  2022-01-31 19:27:33   \n",
       "2  30DD8A84164843AD  classic_bike  2022-01-07 15:28:39  2022-01-07 15:31:01   \n",
       "3  FC67665D7682D0A6  classic_bike  2022-01-27 20:09:25  2022-01-27 20:37:02   \n",
       "4  7854F7CC4F631A1E  classic_bike  2022-01-07 16:14:28  2022-01-07 16:16:13   \n",
       "\n",
       "                                  start_station_name  start_station_id  \\\n",
       "0                            Monroe Ave & Leslie Ave           31087.0   \n",
       "1                                     14th & L St NW           31283.0   \n",
       "2                                     14th & L St NW           31283.0   \n",
       "3                        New York Ave & Hecht Ave NE           31518.0   \n",
       "4  Falls Church City Hall / Park Ave & Little Fal...           32608.0   \n",
       "\n",
       "                            end_station_name  end_station_id  start_lat  \\\n",
       "0               Potomac Ave & Main Line Blvd         31910.0  38.820932   \n",
       "1                             10th & G St NW         31274.0  38.903658   \n",
       "2                             12th & L St NW         31251.0  38.903658   \n",
       "3  Nannie Helen Burroughs & Minnesota Ave NE         31704.0  38.915604   \n",
       "4                Pennsylvania Ave & Park Ave         32603.0  38.885434   \n",
       "\n",
       "   start_lng    end_lat    end_lng member_casual started_at_date ended_at_date  \n",
       "0 -77.053096  38.822738 -77.049265        member      2022-01-06    2022-01-06  \n",
       "1 -77.031737  38.898243 -77.026235        member      2022-01-31    2022-01-31  \n",
       "2 -77.031737  38.903819 -77.028400        member      2022-01-07    2022-01-07  \n",
       "3 -76.983683  38.901385 -76.941877        casual      2022-01-27    2022-01-27  \n",
       "4 -77.173605  38.887403 -77.176992        member      2022-01-07    2022-01-07  "
      ]
     },
     "execution_count": 6,
     "metadata": {},
     "output_type": "execute_result"
    }
   ],
   "source": [
    "df.head()"
   ]
  },
  {
   "cell_type": "markdown",
   "id": "fb061040",
   "metadata": {},
   "source": [
    "## For demonstration, we consider GWSB station \"22nd & H St NW\"\n",
    "### Students will work with '21st & I St NW' and '21st St & Pennsylvania Ave NW' instead."
   ]
  },
  {
   "cell_type": "markdown",
   "id": "d01737fc",
   "metadata": {},
   "source": [
    "### Count daily pickups"
   ]
  },
  {
   "cell_type": "code",
   "execution_count": 7,
   "id": "143741b5",
   "metadata": {},
   "outputs": [
    {
     "data": {
      "text/html": [
       "<div>\n",
       "<style scoped>\n",
       "    .dataframe tbody tr th:only-of-type {\n",
       "        vertical-align: middle;\n",
       "    }\n",
       "\n",
       "    .dataframe tbody tr th {\n",
       "        vertical-align: top;\n",
       "    }\n",
       "\n",
       "    .dataframe thead th {\n",
       "        text-align: right;\n",
       "    }\n",
       "</style>\n",
       "<table border=\"1\" class=\"dataframe\">\n",
       "  <thead>\n",
       "    <tr style=\"text-align: right;\">\n",
       "      <th></th>\n",
       "      <th>started_at_date</th>\n",
       "      <th>start_station_name</th>\n",
       "      <th>pu_ct</th>\n",
       "    </tr>\n",
       "  </thead>\n",
       "  <tbody>\n",
       "    <tr>\n",
       "      <th>0</th>\n",
       "      <td>2022-01-01</td>\n",
       "      <td>21st St &amp; Pennsylvania Ave NW</td>\n",
       "      <td>5</td>\n",
       "    </tr>\n",
       "    <tr>\n",
       "      <th>1</th>\n",
       "      <td>2022-01-02</td>\n",
       "      <td>21st St &amp; Pennsylvania Ave NW</td>\n",
       "      <td>1</td>\n",
       "    </tr>\n",
       "    <tr>\n",
       "      <th>2</th>\n",
       "      <td>2022-01-03</td>\n",
       "      <td>21st St &amp; Pennsylvania Ave NW</td>\n",
       "      <td>1</td>\n",
       "    </tr>\n",
       "    <tr>\n",
       "      <th>3</th>\n",
       "      <td>2022-01-05</td>\n",
       "      <td>21st St &amp; Pennsylvania Ave NW</td>\n",
       "      <td>3</td>\n",
       "    </tr>\n",
       "    <tr>\n",
       "      <th>4</th>\n",
       "      <td>2022-01-06</td>\n",
       "      <td>21st St &amp; Pennsylvania Ave NW</td>\n",
       "      <td>5</td>\n",
       "    </tr>\n",
       "    <tr>\n",
       "      <th>...</th>\n",
       "      <td>...</td>\n",
       "      <td>...</td>\n",
       "      <td>...</td>\n",
       "    </tr>\n",
       "    <tr>\n",
       "      <th>110</th>\n",
       "      <td>2022-04-26</td>\n",
       "      <td>21st St &amp; Pennsylvania Ave NW</td>\n",
       "      <td>22</td>\n",
       "    </tr>\n",
       "    <tr>\n",
       "      <th>111</th>\n",
       "      <td>2022-04-27</td>\n",
       "      <td>21st St &amp; Pennsylvania Ave NW</td>\n",
       "      <td>21</td>\n",
       "    </tr>\n",
       "    <tr>\n",
       "      <th>112</th>\n",
       "      <td>2022-04-28</td>\n",
       "      <td>21st St &amp; Pennsylvania Ave NW</td>\n",
       "      <td>23</td>\n",
       "    </tr>\n",
       "    <tr>\n",
       "      <th>113</th>\n",
       "      <td>2022-04-29</td>\n",
       "      <td>21st St &amp; Pennsylvania Ave NW</td>\n",
       "      <td>23</td>\n",
       "    </tr>\n",
       "    <tr>\n",
       "      <th>114</th>\n",
       "      <td>2022-04-30</td>\n",
       "      <td>21st St &amp; Pennsylvania Ave NW</td>\n",
       "      <td>11</td>\n",
       "    </tr>\n",
       "  </tbody>\n",
       "</table>\n",
       "<p>115 rows × 3 columns</p>\n",
       "</div>"
      ],
      "text/plain": [
       "    started_at_date             start_station_name  pu_ct\n",
       "0        2022-01-01  21st St & Pennsylvania Ave NW      5\n",
       "1        2022-01-02  21st St & Pennsylvania Ave NW      1\n",
       "2        2022-01-03  21st St & Pennsylvania Ave NW      1\n",
       "3        2022-01-05  21st St & Pennsylvania Ave NW      3\n",
       "4        2022-01-06  21st St & Pennsylvania Ave NW      5\n",
       "..              ...                            ...    ...\n",
       "110      2022-04-26  21st St & Pennsylvania Ave NW     22\n",
       "111      2022-04-27  21st St & Pennsylvania Ave NW     21\n",
       "112      2022-04-28  21st St & Pennsylvania Ave NW     23\n",
       "113      2022-04-29  21st St & Pennsylvania Ave NW     23\n",
       "114      2022-04-30  21st St & Pennsylvania Ave NW     11\n",
       "\n",
       "[115 rows x 3 columns]"
      ]
     },
     "execution_count": 7,
     "metadata": {},
     "output_type": "execute_result"
    }
   ],
   "source": [
    "# Group and get pickup occurrence for 22nd & H St NW\n",
    "df_sub1 = df[df['start_station_name']==\"21st St & Pennsylvania Ave NW\"]\n",
    "df_grp1 = df_sub1.groupby(['started_at_date','start_station_name']).size()\n",
    "df_pu=df_grp1.reset_index(name = \"pu_ct\")\n",
    "df_pu"
   ]
  },
  {
   "cell_type": "markdown",
   "id": "0da58a9c",
   "metadata": {},
   "source": [
    "### Count daily dropoffs"
   ]
  },
  {
   "cell_type": "code",
   "execution_count": 8,
   "id": "1ab7421d",
   "metadata": {},
   "outputs": [
    {
     "data": {
      "text/html": [
       "<div>\n",
       "<style scoped>\n",
       "    .dataframe tbody tr th:only-of-type {\n",
       "        vertical-align: middle;\n",
       "    }\n",
       "\n",
       "    .dataframe tbody tr th {\n",
       "        vertical-align: top;\n",
       "    }\n",
       "\n",
       "    .dataframe thead th {\n",
       "        text-align: right;\n",
       "    }\n",
       "</style>\n",
       "<table border=\"1\" class=\"dataframe\">\n",
       "  <thead>\n",
       "    <tr style=\"text-align: right;\">\n",
       "      <th></th>\n",
       "      <th>ended_at_date</th>\n",
       "      <th>end_station_name</th>\n",
       "      <th>do_ct</th>\n",
       "    </tr>\n",
       "  </thead>\n",
       "  <tbody>\n",
       "    <tr>\n",
       "      <th>0</th>\n",
       "      <td>2022-01-01</td>\n",
       "      <td>21st St &amp; Pennsylvania Ave NW</td>\n",
       "      <td>4</td>\n",
       "    </tr>\n",
       "    <tr>\n",
       "      <th>1</th>\n",
       "      <td>2022-01-02</td>\n",
       "      <td>21st St &amp; Pennsylvania Ave NW</td>\n",
       "      <td>3</td>\n",
       "    </tr>\n",
       "    <tr>\n",
       "      <th>2</th>\n",
       "      <td>2022-01-03</td>\n",
       "      <td>21st St &amp; Pennsylvania Ave NW</td>\n",
       "      <td>2</td>\n",
       "    </tr>\n",
       "    <tr>\n",
       "      <th>3</th>\n",
       "      <td>2022-01-04</td>\n",
       "      <td>21st St &amp; Pennsylvania Ave NW</td>\n",
       "      <td>1</td>\n",
       "    </tr>\n",
       "    <tr>\n",
       "      <th>4</th>\n",
       "      <td>2022-01-05</td>\n",
       "      <td>21st St &amp; Pennsylvania Ave NW</td>\n",
       "      <td>4</td>\n",
       "    </tr>\n",
       "    <tr>\n",
       "      <th>...</th>\n",
       "      <td>...</td>\n",
       "      <td>...</td>\n",
       "      <td>...</td>\n",
       "    </tr>\n",
       "    <tr>\n",
       "      <th>114</th>\n",
       "      <td>2022-04-26</td>\n",
       "      <td>21st St &amp; Pennsylvania Ave NW</td>\n",
       "      <td>29</td>\n",
       "    </tr>\n",
       "    <tr>\n",
       "      <th>115</th>\n",
       "      <td>2022-04-27</td>\n",
       "      <td>21st St &amp; Pennsylvania Ave NW</td>\n",
       "      <td>29</td>\n",
       "    </tr>\n",
       "    <tr>\n",
       "      <th>116</th>\n",
       "      <td>2022-04-28</td>\n",
       "      <td>21st St &amp; Pennsylvania Ave NW</td>\n",
       "      <td>26</td>\n",
       "    </tr>\n",
       "    <tr>\n",
       "      <th>117</th>\n",
       "      <td>2022-04-29</td>\n",
       "      <td>21st St &amp; Pennsylvania Ave NW</td>\n",
       "      <td>34</td>\n",
       "    </tr>\n",
       "    <tr>\n",
       "      <th>118</th>\n",
       "      <td>2022-04-30</td>\n",
       "      <td>21st St &amp; Pennsylvania Ave NW</td>\n",
       "      <td>12</td>\n",
       "    </tr>\n",
       "  </tbody>\n",
       "</table>\n",
       "<p>119 rows × 3 columns</p>\n",
       "</div>"
      ],
      "text/plain": [
       "    ended_at_date               end_station_name  do_ct\n",
       "0      2022-01-01  21st St & Pennsylvania Ave NW      4\n",
       "1      2022-01-02  21st St & Pennsylvania Ave NW      3\n",
       "2      2022-01-03  21st St & Pennsylvania Ave NW      2\n",
       "3      2022-01-04  21st St & Pennsylvania Ave NW      1\n",
       "4      2022-01-05  21st St & Pennsylvania Ave NW      4\n",
       "..            ...                            ...    ...\n",
       "114    2022-04-26  21st St & Pennsylvania Ave NW     29\n",
       "115    2022-04-27  21st St & Pennsylvania Ave NW     29\n",
       "116    2022-04-28  21st St & Pennsylvania Ave NW     26\n",
       "117    2022-04-29  21st St & Pennsylvania Ave NW     34\n",
       "118    2022-04-30  21st St & Pennsylvania Ave NW     12\n",
       "\n",
       "[119 rows x 3 columns]"
      ]
     },
     "execution_count": 8,
     "metadata": {},
     "output_type": "execute_result"
    }
   ],
   "source": [
    "# Group and get drop off occurrence for 22nd & H St NW\n",
    "df_sub2 = df[df['end_station_name']==\"21st St & Pennsylvania Ave NW\"]\n",
    "df_grp2 = df_sub2.groupby(['ended_at_date','end_station_name']).size()\n",
    "df_do=df_grp2.reset_index(name = \"do_ct\")\n",
    "df_do"
   ]
  },
  {
   "cell_type": "markdown",
   "id": "4f5c2444",
   "metadata": {},
   "source": [
    "### Visualize pickups and dropoffs"
   ]
  },
  {
   "cell_type": "code",
   "execution_count": 9,
   "id": "4f5fcd69",
   "metadata": {},
   "outputs": [
    {
     "data": {
      "image/png": "[encoded data removed]",
      "text/plain": [
       "<Figure size 864x648 with 1 Axes>"
      ]
     },
     "metadata": {
      "needs_background": "light"
     },
     "output_type": "display_data"
    }
   ],
   "source": [
    "fig, ax1 = plt.subplots(figsize=(12, 9))\n",
    "ax1.plot_date( df_pu['started_at_date'], df_pu['pu_ct'],linestyle = 'solid',markeredgecolor = 'blue',markerfacecolor = 'blue', markersize = 3)\n",
    "ax1.plot_date( df_do['ended_at_date'], df_do['do_ct'],linestyle = 'solid',markeredgecolor = 'red',markerfacecolor = 'red', markersize = 3)\n",
    "\n",
    "ax1.set_xlabel('Date',fontsize=10)\n",
    "ax1.set_ylabel('Count',fontsize=16)\n",
    "plt.gcf().autofmt_xdate()\n",
    "\n",
    "plt.tick_params(labelsize=18)\n",
    "plt.show()  "
   ]
  },
  {
   "cell_type": "markdown",
   "id": "cbb1a6e3",
   "metadata": {},
   "source": [
    "## Weather Data"
   ]
  },
  {
   "cell_type": "code",
   "execution_count": 10,
   "id": "91178cea",
   "metadata": {},
   "outputs": [
    {
     "data": {
      "text/html": [
       "<div>\n",
       "<style scoped>\n",
       "    .dataframe tbody tr th:only-of-type {\n",
       "        vertical-align: middle;\n",
       "    }\n",
       "\n",
       "    .dataframe tbody tr th {\n",
       "        vertical-align: top;\n",
       "    }\n",
       "\n",
       "    .dataframe thead th {\n",
       "        text-align: right;\n",
       "    }\n",
       "</style>\n",
       "<table border=\"1\" class=\"dataframe\">\n",
       "  <thead>\n",
       "    <tr style=\"text-align: right;\">\n",
       "      <th></th>\n",
       "      <th>name</th>\n",
       "      <th>datetime</th>\n",
       "      <th>tempmax</th>\n",
       "      <th>tempmin</th>\n",
       "      <th>temp</th>\n",
       "      <th>feelslikemax</th>\n",
       "      <th>feelslikemin</th>\n",
       "      <th>feelslike</th>\n",
       "      <th>dew</th>\n",
       "      <th>humidity</th>\n",
       "      <th>...</th>\n",
       "      <th>solarenergy</th>\n",
       "      <th>uvindex</th>\n",
       "      <th>severerisk</th>\n",
       "      <th>sunrise</th>\n",
       "      <th>sunset</th>\n",
       "      <th>moonphase</th>\n",
       "      <th>conditions</th>\n",
       "      <th>description</th>\n",
       "      <th>icon</th>\n",
       "      <th>stations</th>\n",
       "    </tr>\n",
       "  </thead>\n",
       "  <tbody>\n",
       "    <tr>\n",
       "      <th>0</th>\n",
       "      <td>Washington,DC,USA</td>\n",
       "      <td>2022-01-01</td>\n",
       "      <td>63.5</td>\n",
       "      <td>54.1</td>\n",
       "      <td>58.3</td>\n",
       "      <td>63.5</td>\n",
       "      <td>54.1</td>\n",
       "      <td>58.3</td>\n",
       "      <td>56.0</td>\n",
       "      <td>92.1</td>\n",
       "      <td>...</td>\n",
       "      <td>0.6</td>\n",
       "      <td>0</td>\n",
       "      <td>NaN</td>\n",
       "      <td>2022-01-01T07:26:53</td>\n",
       "      <td>2022-01-01T16:56:53</td>\n",
       "      <td>0.99</td>\n",
       "      <td>Rain, Overcast</td>\n",
       "      <td>Cloudy skies throughout the day with rain.</td>\n",
       "      <td>rain</td>\n",
       "      <td>KDCA,72405013743,72403793728,F0198,KADW,KDAA,A...</td>\n",
       "    </tr>\n",
       "    <tr>\n",
       "      <th>1</th>\n",
       "      <td>Washington,DC,USA</td>\n",
       "      <td>2022-01-02</td>\n",
       "      <td>62.7</td>\n",
       "      <td>47.8</td>\n",
       "      <td>57.5</td>\n",
       "      <td>62.7</td>\n",
       "      <td>42.0</td>\n",
       "      <td>57.0</td>\n",
       "      <td>51.6</td>\n",
       "      <td>81.6</td>\n",
       "      <td>...</td>\n",
       "      <td>1.7</td>\n",
       "      <td>1</td>\n",
       "      <td>NaN</td>\n",
       "      <td>2022-01-02T07:27:00</td>\n",
       "      <td>2022-01-02T16:57:43</td>\n",
       "      <td>1.00</td>\n",
       "      <td>Rain, Overcast</td>\n",
       "      <td>Cloudy skies throughout the day with rain clea...</td>\n",
       "      <td>rain</td>\n",
       "      <td>KDCA,72405013743,72403793728,F0198,KADW,KDAA,7...</td>\n",
       "    </tr>\n",
       "    <tr>\n",
       "      <th>2</th>\n",
       "      <td>Washington,DC,USA</td>\n",
       "      <td>2022-01-03</td>\n",
       "      <td>46.0</td>\n",
       "      <td>26.1</td>\n",
       "      <td>32.7</td>\n",
       "      <td>39.4</td>\n",
       "      <td>14.3</td>\n",
       "      <td>23.0</td>\n",
       "      <td>26.6</td>\n",
       "      <td>78.7</td>\n",
       "      <td>...</td>\n",
       "      <td>0.0</td>\n",
       "      <td>0</td>\n",
       "      <td>NaN</td>\n",
       "      <td>2022-01-03T07:27:05</td>\n",
       "      <td>2022-01-03T16:58:34</td>\n",
       "      <td>0.00</td>\n",
       "      <td>Snow, Rain, Partially cloudy</td>\n",
       "      <td>Partly cloudy throughout the day with a chance...</td>\n",
       "      <td>snow</td>\n",
       "      <td>KDCA,72405013743,72403793728,F0198,KADW,KDAA,A...</td>\n",
       "    </tr>\n",
       "    <tr>\n",
       "      <th>3</th>\n",
       "      <td>Washington,DC,USA</td>\n",
       "      <td>2022-01-04</td>\n",
       "      <td>34.0</td>\n",
       "      <td>25.3</td>\n",
       "      <td>29.4</td>\n",
       "      <td>33.7</td>\n",
       "      <td>16.0</td>\n",
       "      <td>24.0</td>\n",
       "      <td>19.2</td>\n",
       "      <td>65.7</td>\n",
       "      <td>...</td>\n",
       "      <td>5.4</td>\n",
       "      <td>6</td>\n",
       "      <td>NaN</td>\n",
       "      <td>2022-01-04T07:27:07</td>\n",
       "      <td>2022-01-04T16:59:27</td>\n",
       "      <td>0.02</td>\n",
       "      <td>Clear</td>\n",
       "      <td>Clear conditions throughout the day.</td>\n",
       "      <td>snow</td>\n",
       "      <td>KDCA,72405013743,72403793728,D6279,F0198,KADW,...</td>\n",
       "    </tr>\n",
       "    <tr>\n",
       "      <th>4</th>\n",
       "      <td>Washington,DC,USA</td>\n",
       "      <td>2022-01-05</td>\n",
       "      <td>40.8</td>\n",
       "      <td>28.1</td>\n",
       "      <td>35.8</td>\n",
       "      <td>37.2</td>\n",
       "      <td>19.8</td>\n",
       "      <td>29.5</td>\n",
       "      <td>29.0</td>\n",
       "      <td>76.3</td>\n",
       "      <td>...</td>\n",
       "      <td>2.2</td>\n",
       "      <td>1</td>\n",
       "      <td>NaN</td>\n",
       "      <td>2022-01-05T07:27:08</td>\n",
       "      <td>2022-01-05T17:00:21</td>\n",
       "      <td>0.05</td>\n",
       "      <td>Partially cloudy</td>\n",
       "      <td>Partly cloudy throughout the day.</td>\n",
       "      <td>partly-cloudy-day</td>\n",
       "      <td>KDCA,72405013743,72403793728,F0198,KADW,KDAA,7...</td>\n",
       "    </tr>\n",
       "  </tbody>\n",
       "</table>\n",
       "<p>5 rows × 33 columns</p>\n",
       "</div>"
      ],
      "text/plain": [
       "                name    datetime  tempmax  tempmin  temp  feelslikemax  \\\n",
       "0  Washington,DC,USA  2022-01-01     63.5     54.1  58.3          63.5   \n",
       "1  Washington,DC,USA  2022-01-02     62.7     47.8  57.5          62.7   \n",
       "2  Washington,DC,USA  2022-01-03     46.0     26.1  32.7          39.4   \n",
       "3  Washington,DC,USA  2022-01-04     34.0     25.3  29.4          33.7   \n",
       "4  Washington,DC,USA  2022-01-05     40.8     28.1  35.8          37.2   \n",
       "\n",
       "   feelslikemin  feelslike   dew  humidity  ...  solarenergy  uvindex  \\\n",
       "0          54.1       58.3  56.0      92.1  ...          0.6        0   \n",
       "1          42.0       57.0  51.6      81.6  ...          1.7        1   \n",
       "2          14.3       23.0  26.6      78.7  ...          0.0        0   \n",
       "3          16.0       24.0  19.2      65.7  ...          5.4        6   \n",
       "4          19.8       29.5  29.0      76.3  ...          2.2        1   \n",
       "\n",
       "   severerisk              sunrise               sunset  moonphase  \\\n",
       "0         NaN  2022-01-01T07:26:53  2022-01-01T16:56:53       0.99   \n",
       "1         NaN  2022-01-02T07:27:00  2022-01-02T16:57:43       1.00   \n",
       "2         NaN  2022-01-03T07:27:05  2022-01-03T16:58:34       0.00   \n",
       "3         NaN  2022-01-04T07:27:07  2022-01-04T16:59:27       0.02   \n",
       "4         NaN  2022-01-05T07:27:08  2022-01-05T17:00:21       0.05   \n",
       "\n",
       "                     conditions  \\\n",
       "0                Rain, Overcast   \n",
       "1                Rain, Overcast   \n",
       "2  Snow, Rain, Partially cloudy   \n",
       "3                         Clear   \n",
       "4              Partially cloudy   \n",
       "\n",
       "                                         description               icon  \\\n",
       "0         Cloudy skies throughout the day with rain.               rain   \n",
       "1  Cloudy skies throughout the day with rain clea...               rain   \n",
       "2  Partly cloudy throughout the day with a chance...               snow   \n",
       "3               Clear conditions throughout the day.               snow   \n",
       "4                  Partly cloudy throughout the day.  partly-cloudy-day   \n",
       "\n",
       "                                            stations  \n",
       "0  KDCA,72405013743,72403793728,F0198,KADW,KDAA,A...  \n",
       "1  KDCA,72405013743,72403793728,F0198,KADW,KDAA,7...  \n",
       "2  KDCA,72405013743,72403793728,F0198,KADW,KDAA,A...  \n",
       "3  KDCA,72405013743,72403793728,D6279,F0198,KADW,...  \n",
       "4  KDCA,72405013743,72403793728,F0198,KADW,KDAA,7...  \n",
       "\n",
       "[5 rows x 33 columns]"
      ]
     },
     "execution_count": 10,
     "metadata": {},
     "output_type": "execute_result"
    }
   ],
   "source": [
    "df_weather = pd.read_csv('Data/DC Weather 2022-01-01 to 2022-12-31.csv')\n",
    "\n",
    "df_weather.head()"
   ]
  },
  {
   "cell_type": "markdown",
   "id": "6b289bbc",
   "metadata": {},
   "source": [
    "## Check missing values"
   ]
  },
  {
   "cell_type": "code",
   "execution_count": 11,
   "id": "8c89c41a",
   "metadata": {},
   "outputs": [
    {
     "data": {
      "image/png": "[encoded data removed]",
      "text/plain": [
       "<Figure size 432x288 with 2 Axes>"
      ]
     },
     "metadata": {
      "needs_background": "light"
     },
     "output_type": "display_data"
    }
   ],
   "source": [
    "# Date time format \n",
    "df_weather['datetime'] = pd.to_datetime(df_weather['datetime']).dt.date\n",
    "\n",
    "# Use sns heatmap to see whats are the null values.\n",
    "coln = df_weather.columns[:df_weather.shape[1]]  \n",
    "colors = ['#000099','#ffff00'] # specify the colors - yellow is missing. blue is not missing.\n",
    "sns.heatmap(df_weather[coln].isnull(), cmap = sns.color_palette(colors))\n",
    "plt.show()"
   ]
  },
  {
   "cell_type": "markdown",
   "id": "94f6001e",
   "metadata": {},
   "source": [
    "## Drop variables of your choice"
   ]
  },
  {
   "cell_type": "code",
   "execution_count": 12,
   "id": "82a937c9",
   "metadata": {},
   "outputs": [],
   "source": [
    "# Drop unnecessary variables\n",
    "df_weather=df_weather.drop(columns=['name', 'stations','description','sunrise','sunset','conditions','severerisk','preciptype','windgust'])"
   ]
  },
  {
   "cell_type": "markdown",
   "id": "a28e9ce3",
   "metadata": {},
   "source": [
    "## Prepare X and y: Merge weather data with trip data"
   ]
  },
  {
   "cell_type": "code",
   "execution_count": 13,
   "id": "a5ea795f",
   "metadata": {},
   "outputs": [],
   "source": [
    "# Merge with weather data and remove dates and station name\n",
    "\n",
    "df_m_pu = df_pu.merge(df_weather, left_on='started_at_date', right_on='datetime') \n",
    "df_m_pu = df_m_pu.drop(columns=['started_at_date','start_station_name','datetime'])\n",
    "df_m_do = df_do.merge(df_weather, left_on='ended_at_date', right_on='datetime') \n",
    "df_m_do = df_m_do.drop(columns=['ended_at_date','end_station_name','datetime'])"
   ]
  },
  {
   "cell_type": "code",
   "execution_count": 14,
   "id": "8cd69dfb",
   "metadata": {
    "scrolled": true
   },
   "outputs": [
    {
     "data": {
      "text/html": [
       "<div>\n",
       "<style scoped>\n",
       "    .dataframe tbody tr th:only-of-type {\n",
       "        vertical-align: middle;\n",
       "    }\n",
       "\n",
       "    .dataframe tbody tr th {\n",
       "        vertical-align: top;\n",
       "    }\n",
       "\n",
       "    .dataframe thead th {\n",
       "        text-align: right;\n",
       "    }\n",
       "</style>\n",
       "<table border=\"1\" class=\"dataframe\">\n",
       "  <thead>\n",
       "    <tr style=\"text-align: right;\">\n",
       "      <th></th>\n",
       "      <th>pu_ct</th>\n",
       "      <th>tempmax</th>\n",
       "      <th>tempmin</th>\n",
       "      <th>temp</th>\n",
       "      <th>feelslikemax</th>\n",
       "      <th>feelslikemin</th>\n",
       "      <th>feelslike</th>\n",
       "      <th>dew</th>\n",
       "      <th>humidity</th>\n",
       "      <th>precip</th>\n",
       "      <th>...</th>\n",
       "      <th>windspeed</th>\n",
       "      <th>winddir</th>\n",
       "      <th>sealevelpressure</th>\n",
       "      <th>cloudcover</th>\n",
       "      <th>visibility</th>\n",
       "      <th>solarradiation</th>\n",
       "      <th>solarenergy</th>\n",
       "      <th>uvindex</th>\n",
       "      <th>moonphase</th>\n",
       "      <th>icon</th>\n",
       "    </tr>\n",
       "  </thead>\n",
       "  <tbody>\n",
       "    <tr>\n",
       "      <th>0</th>\n",
       "      <td>5</td>\n",
       "      <td>63.5</td>\n",
       "      <td>54.1</td>\n",
       "      <td>58.3</td>\n",
       "      <td>63.5</td>\n",
       "      <td>54.1</td>\n",
       "      <td>58.3</td>\n",
       "      <td>56.0</td>\n",
       "      <td>92.1</td>\n",
       "      <td>0.448</td>\n",
       "      <td>...</td>\n",
       "      <td>11.4</td>\n",
       "      <td>190.2</td>\n",
       "      <td>1007.2</td>\n",
       "      <td>99.5</td>\n",
       "      <td>6.2</td>\n",
       "      <td>21.4</td>\n",
       "      <td>0.6</td>\n",
       "      <td>0</td>\n",
       "      <td>0.99</td>\n",
       "      <td>rain</td>\n",
       "    </tr>\n",
       "    <tr>\n",
       "      <th>1</th>\n",
       "      <td>1</td>\n",
       "      <td>62.7</td>\n",
       "      <td>47.8</td>\n",
       "      <td>57.5</td>\n",
       "      <td>62.7</td>\n",
       "      <td>42.0</td>\n",
       "      <td>57.0</td>\n",
       "      <td>51.6</td>\n",
       "      <td>81.6</td>\n",
       "      <td>0.124</td>\n",
       "      <td>...</td>\n",
       "      <td>18.9</td>\n",
       "      <td>290.7</td>\n",
       "      <td>1006.6</td>\n",
       "      <td>91.6</td>\n",
       "      <td>9.6</td>\n",
       "      <td>47.3</td>\n",
       "      <td>1.7</td>\n",
       "      <td>1</td>\n",
       "      <td>1.00</td>\n",
       "      <td>rain</td>\n",
       "    </tr>\n",
       "    <tr>\n",
       "      <th>2</th>\n",
       "      <td>1</td>\n",
       "      <td>46.0</td>\n",
       "      <td>26.1</td>\n",
       "      <td>32.7</td>\n",
       "      <td>39.4</td>\n",
       "      <td>14.3</td>\n",
       "      <td>23.0</td>\n",
       "      <td>26.6</td>\n",
       "      <td>78.7</td>\n",
       "      <td>0.889</td>\n",
       "      <td>...</td>\n",
       "      <td>22.5</td>\n",
       "      <td>358.5</td>\n",
       "      <td>1019.7</td>\n",
       "      <td>77.2</td>\n",
       "      <td>6.2</td>\n",
       "      <td>6.3</td>\n",
       "      <td>0.0</td>\n",
       "      <td>0</td>\n",
       "      <td>0.00</td>\n",
       "      <td>snow</td>\n",
       "    </tr>\n",
       "    <tr>\n",
       "      <th>3</th>\n",
       "      <td>3</td>\n",
       "      <td>40.8</td>\n",
       "      <td>28.1</td>\n",
       "      <td>35.8</td>\n",
       "      <td>37.2</td>\n",
       "      <td>19.8</td>\n",
       "      <td>29.5</td>\n",
       "      <td>29.0</td>\n",
       "      <td>76.3</td>\n",
       "      <td>0.000</td>\n",
       "      <td>...</td>\n",
       "      <td>13.6</td>\n",
       "      <td>195.2</td>\n",
       "      <td>1014.5</td>\n",
       "      <td>82.6</td>\n",
       "      <td>9.9</td>\n",
       "      <td>63.5</td>\n",
       "      <td>2.2</td>\n",
       "      <td>1</td>\n",
       "      <td>0.05</td>\n",
       "      <td>partly-cloudy-day</td>\n",
       "    </tr>\n",
       "    <tr>\n",
       "      <th>4</th>\n",
       "      <td>5</td>\n",
       "      <td>42.9</td>\n",
       "      <td>36.9</td>\n",
       "      <td>39.8</td>\n",
       "      <td>40.6</td>\n",
       "      <td>29.5</td>\n",
       "      <td>35.3</td>\n",
       "      <td>24.2</td>\n",
       "      <td>55.0</td>\n",
       "      <td>0.000</td>\n",
       "      <td>...</td>\n",
       "      <td>12.9</td>\n",
       "      <td>16.0</td>\n",
       "      <td>1012.7</td>\n",
       "      <td>88.1</td>\n",
       "      <td>9.9</td>\n",
       "      <td>145.6</td>\n",
       "      <td>5.3</td>\n",
       "      <td>4</td>\n",
       "      <td>0.09</td>\n",
       "      <td>snow</td>\n",
       "    </tr>\n",
       "  </tbody>\n",
       "</table>\n",
       "<p>5 rows × 24 columns</p>\n",
       "</div>"
      ],
      "text/plain": [
       "   pu_ct  tempmax  tempmin  temp  feelslikemax  feelslikemin  feelslike   dew  \\\n",
       "0      5     63.5     54.1  58.3          63.5          54.1       58.3  56.0   \n",
       "1      1     62.7     47.8  57.5          62.7          42.0       57.0  51.6   \n",
       "2      1     46.0     26.1  32.7          39.4          14.3       23.0  26.6   \n",
       "3      3     40.8     28.1  35.8          37.2          19.8       29.5  29.0   \n",
       "4      5     42.9     36.9  39.8          40.6          29.5       35.3  24.2   \n",
       "\n",
       "   humidity  precip  ...  windspeed  winddir  sealevelpressure  cloudcover  \\\n",
       "0      92.1   0.448  ...       11.4    190.2            1007.2        99.5   \n",
       "1      81.6   0.124  ...       18.9    290.7            1006.6        91.6   \n",
       "2      78.7   0.889  ...       22.5    358.5            1019.7        77.2   \n",
       "3      76.3   0.000  ...       13.6    195.2            1014.5        82.6   \n",
       "4      55.0   0.000  ...       12.9     16.0            1012.7        88.1   \n",
       "\n",
       "   visibility  solarradiation  solarenergy  uvindex  moonphase  \\\n",
       "0         6.2            21.4          0.6        0       0.99   \n",
       "1         9.6            47.3          1.7        1       1.00   \n",
       "2         6.2             6.3          0.0        0       0.00   \n",
       "3         9.9            63.5          2.2        1       0.05   \n",
       "4         9.9           145.6          5.3        4       0.09   \n",
       "\n",
       "                icon  \n",
       "0               rain  \n",
       "1               rain  \n",
       "2               snow  \n",
       "3  partly-cloudy-day  \n",
       "4               snow  \n",
       "\n",
       "[5 rows x 24 columns]"
      ]
     },
     "execution_count": 14,
     "metadata": {},
     "output_type": "execute_result"
    }
   ],
   "source": [
    "df_m_pu.head()"
   ]
  },
  {
   "cell_type": "markdown",
   "id": "7ef1734d",
   "metadata": {},
   "source": [
    "# Demo: train linear models"
   ]
  },
  {
   "cell_type": "code",
   "execution_count": 15,
   "id": "995ad1cd",
   "metadata": {},
   "outputs": [],
   "source": [
    "from sklearn.model_selection import train_test_split\n",
    "from sklearn.linear_model import LinearRegression\n",
    "from sklearn.metrics import mean_squared_error"
   ]
  },
  {
   "cell_type": "code",
   "execution_count": 16,
   "id": "0217869f",
   "metadata": {},
   "outputs": [
    {
     "data": {
      "text/html": [
       "<div>\n",
       "<style scoped>\n",
       "    .dataframe tbody tr th:only-of-type {\n",
       "        vertical-align: middle;\n",
       "    }\n",
       "\n",
       "    .dataframe tbody tr th {\n",
       "        vertical-align: top;\n",
       "    }\n",
       "\n",
       "    .dataframe thead th {\n",
       "        text-align: right;\n",
       "    }\n",
       "</style>\n",
       "<table border=\"1\" class=\"dataframe\">\n",
       "  <thead>\n",
       "    <tr style=\"text-align: right;\">\n",
       "      <th></th>\n",
       "      <th>tempmax</th>\n",
       "      <th>tempmin</th>\n",
       "      <th>temp</th>\n",
       "      <th>feelslikemax</th>\n",
       "      <th>feelslikemin</th>\n",
       "      <th>feelslike</th>\n",
       "      <th>dew</th>\n",
       "      <th>humidity</th>\n",
       "      <th>precip</th>\n",
       "      <th>precipprob</th>\n",
       "      <th>...</th>\n",
       "      <th>cloudcover</th>\n",
       "      <th>visibility</th>\n",
       "      <th>solarradiation</th>\n",
       "      <th>solarenergy</th>\n",
       "      <th>uvindex</th>\n",
       "      <th>moonphase</th>\n",
       "      <th>icon_partly-cloudy-day</th>\n",
       "      <th>icon_rain</th>\n",
       "      <th>icon_snow</th>\n",
       "      <th>icon_wind</th>\n",
       "    </tr>\n",
       "  </thead>\n",
       "  <tbody>\n",
       "    <tr>\n",
       "      <th>0</th>\n",
       "      <td>63.5</td>\n",
       "      <td>54.1</td>\n",
       "      <td>58.3</td>\n",
       "      <td>63.5</td>\n",
       "      <td>54.1</td>\n",
       "      <td>58.3</td>\n",
       "      <td>56.0</td>\n",
       "      <td>92.1</td>\n",
       "      <td>0.448</td>\n",
       "      <td>100</td>\n",
       "      <td>...</td>\n",
       "      <td>99.5</td>\n",
       "      <td>6.2</td>\n",
       "      <td>21.4</td>\n",
       "      <td>0.6</td>\n",
       "      <td>0</td>\n",
       "      <td>0.99</td>\n",
       "      <td>0</td>\n",
       "      <td>1</td>\n",
       "      <td>0</td>\n",
       "      <td>0</td>\n",
       "    </tr>\n",
       "    <tr>\n",
       "      <th>1</th>\n",
       "      <td>62.7</td>\n",
       "      <td>47.8</td>\n",
       "      <td>57.5</td>\n",
       "      <td>62.7</td>\n",
       "      <td>42.0</td>\n",
       "      <td>57.0</td>\n",
       "      <td>51.6</td>\n",
       "      <td>81.6</td>\n",
       "      <td>0.124</td>\n",
       "      <td>100</td>\n",
       "      <td>...</td>\n",
       "      <td>91.6</td>\n",
       "      <td>9.6</td>\n",
       "      <td>47.3</td>\n",
       "      <td>1.7</td>\n",
       "      <td>1</td>\n",
       "      <td>1.00</td>\n",
       "      <td>0</td>\n",
       "      <td>1</td>\n",
       "      <td>0</td>\n",
       "      <td>0</td>\n",
       "    </tr>\n",
       "    <tr>\n",
       "      <th>2</th>\n",
       "      <td>46.0</td>\n",
       "      <td>26.1</td>\n",
       "      <td>32.7</td>\n",
       "      <td>39.4</td>\n",
       "      <td>14.3</td>\n",
       "      <td>23.0</td>\n",
       "      <td>26.6</td>\n",
       "      <td>78.7</td>\n",
       "      <td>0.889</td>\n",
       "      <td>100</td>\n",
       "      <td>...</td>\n",
       "      <td>77.2</td>\n",
       "      <td>6.2</td>\n",
       "      <td>6.3</td>\n",
       "      <td>0.0</td>\n",
       "      <td>0</td>\n",
       "      <td>0.00</td>\n",
       "      <td>0</td>\n",
       "      <td>0</td>\n",
       "      <td>1</td>\n",
       "      <td>0</td>\n",
       "    </tr>\n",
       "    <tr>\n",
       "      <th>3</th>\n",
       "      <td>40.8</td>\n",
       "      <td>28.1</td>\n",
       "      <td>35.8</td>\n",
       "      <td>37.2</td>\n",
       "      <td>19.8</td>\n",
       "      <td>29.5</td>\n",
       "      <td>29.0</td>\n",
       "      <td>76.3</td>\n",
       "      <td>0.000</td>\n",
       "      <td>0</td>\n",
       "      <td>...</td>\n",
       "      <td>82.6</td>\n",
       "      <td>9.9</td>\n",
       "      <td>63.5</td>\n",
       "      <td>2.2</td>\n",
       "      <td>1</td>\n",
       "      <td>0.05</td>\n",
       "      <td>1</td>\n",
       "      <td>0</td>\n",
       "      <td>0</td>\n",
       "      <td>0</td>\n",
       "    </tr>\n",
       "    <tr>\n",
       "      <th>4</th>\n",
       "      <td>42.9</td>\n",
       "      <td>36.9</td>\n",
       "      <td>39.8</td>\n",
       "      <td>40.6</td>\n",
       "      <td>29.5</td>\n",
       "      <td>35.3</td>\n",
       "      <td>24.2</td>\n",
       "      <td>55.0</td>\n",
       "      <td>0.000</td>\n",
       "      <td>0</td>\n",
       "      <td>...</td>\n",
       "      <td>88.1</td>\n",
       "      <td>9.9</td>\n",
       "      <td>145.6</td>\n",
       "      <td>5.3</td>\n",
       "      <td>4</td>\n",
       "      <td>0.09</td>\n",
       "      <td>0</td>\n",
       "      <td>0</td>\n",
       "      <td>1</td>\n",
       "      <td>0</td>\n",
       "    </tr>\n",
       "  </tbody>\n",
       "</table>\n",
       "<p>5 rows × 26 columns</p>\n",
       "</div>"
      ],
      "text/plain": [
       "   tempmax  tempmin  temp  feelslikemax  feelslikemin  feelslike   dew  \\\n",
       "0     63.5     54.1  58.3          63.5          54.1       58.3  56.0   \n",
       "1     62.7     47.8  57.5          62.7          42.0       57.0  51.6   \n",
       "2     46.0     26.1  32.7          39.4          14.3       23.0  26.6   \n",
       "3     40.8     28.1  35.8          37.2          19.8       29.5  29.0   \n",
       "4     42.9     36.9  39.8          40.6          29.5       35.3  24.2   \n",
       "\n",
       "   humidity  precip  precipprob  ...  cloudcover  visibility  solarradiation  \\\n",
       "0      92.1   0.448         100  ...        99.5         6.2            21.4   \n",
       "1      81.6   0.124         100  ...        91.6         9.6            47.3   \n",
       "2      78.7   0.889         100  ...        77.2         6.2             6.3   \n",
       "3      76.3   0.000           0  ...        82.6         9.9            63.5   \n",
       "4      55.0   0.000           0  ...        88.1         9.9           145.6   \n",
       "\n",
       "   solarenergy  uvindex  moonphase  icon_partly-cloudy-day  icon_rain  \\\n",
       "0          0.6        0       0.99                       0          1   \n",
       "1          1.7        1       1.00                       0          1   \n",
       "2          0.0        0       0.00                       0          0   \n",
       "3          2.2        1       0.05                       1          0   \n",
       "4          5.3        4       0.09                       0          0   \n",
       "\n",
       "   icon_snow  icon_wind  \n",
       "0          0          0  \n",
       "1          0          0  \n",
       "2          1          0  \n",
       "3          0          0  \n",
       "4          1          0  \n",
       "\n",
       "[5 rows x 26 columns]"
      ]
     },
     "execution_count": 16,
     "metadata": {},
     "output_type": "execute_result"
    }
   ],
   "source": [
    "# pickup\n",
    "y = df_m_pu['pu_ct']\n",
    "X = df_m_pu.drop('pu_ct',axis=1)\n",
    "X = pd.get_dummies(data=X, drop_first=True)\n",
    "X.head()"
   ]
  },
  {
   "cell_type": "code",
   "execution_count": 17,
   "id": "0519bbe5",
   "metadata": {},
   "outputs": [],
   "source": [
    "X_train,X_test, y_train,y_test = train_test_split(X,y, test_size=0.4, random_state = 200)"
   ]
  },
  {
   "cell_type": "markdown",
   "id": "cbefb488",
   "metadata": {},
   "source": [
    "## Linear Regression"
   ]
  },
  {
   "cell_type": "code",
   "execution_count": 18,
   "id": "087e30ef",
   "metadata": {},
   "outputs": [],
   "source": [
    "linear_regressor = LinearRegression()\n",
    "linear_regressor.fit(X_train, y_train) \n",
    "y_pred = linear_regressor.predict(X_test)"
   ]
  },
  {
   "cell_type": "code",
   "execution_count": 19,
   "id": "c51848a6",
   "metadata": {},
   "outputs": [
    {
     "name": "stdout",
     "output_type": "stream",
     "text": [
      "tempmax                   0.945492\n",
      "tempmin                   0.445349\n",
      "temp                     -2.031484\n",
      "feelslikemax             -0.771055\n",
      "feelslikemin             -0.679134\n",
      "feelslike                 0.764571\n",
      "dew                       1.862416\n",
      "humidity                 -0.916568\n",
      "precip                   -2.382399\n",
      "precipprob               -0.004082\n",
      "precipcover              -0.075051\n",
      "snow                     -0.114305\n",
      "snowdepth                 0.746721\n",
      "windspeed                -0.676991\n",
      "winddir                   0.014838\n",
      "sealevelpressure         -0.195860\n",
      "cloudcover                0.033615\n",
      "visibility               -2.954038\n",
      "solarradiation           -0.074035\n",
      "solarenergy               1.292846\n",
      "uvindex                   0.718006\n",
      "moonphase                 1.677679\n",
      "icon_partly-cloudy-day    4.111127\n",
      "icon_rain                 3.979878\n",
      "icon_snow                 2.609011\n",
      "icon_wind                 0.000000\n",
      "dtype: float64\n"
     ]
    }
   ],
   "source": [
    "print(pd.Series(linear_regressor.coef_.flatten(), index=X_train.columns))"
   ]
  },
  {
   "cell_type": "code",
   "execution_count": 20,
   "id": "6abff7a2",
   "metadata": {},
   "outputs": [
    {
     "name": "stdout",
     "output_type": "stream",
     "text": [
      "MSE is 47.308\n"
     ]
    }
   ],
   "source": [
    "mse_lr = round(mean_squared_error(y_test, y_pred),3)\n",
    "print(f\"MSE is {mse_lr}\")"
   ]
  },
  {
   "cell_type": "markdown",
   "id": "c0d36dfc",
   "metadata": {},
   "source": [
    "## LASSO CV"
   ]
  },
  {
   "cell_type": "code",
   "execution_count": 21,
   "id": "8fe10ead",
   "metadata": {},
   "outputs": [
    {
     "data": {
      "image/png": "[encoded data removed]",
      "text/plain": [
       "<Figure size 432x288 with 1 Axes>"
      ]
     },
     "metadata": {
      "needs_background": "light"
     },
     "output_type": "display_data"
    }
   ],
   "source": [
    "alphas = 10**np.linspace(-2,2,100)\n",
    "\n",
    "lasso = Lasso()\n",
    "coefs = []\n",
    "\n",
    "for a in alphas:\n",
    "    lasso.set_params(alpha=a, max_iter=10000) # increase iterations for optimization of coefficients\n",
    "    lasso.fit(scale(X_train), y_train)\n",
    "    coefs.append(lasso.coef_)\n",
    "\n",
    "ax = plt.gca()\n",
    "ax.plot(alphas, coefs)\n",
    "ax.set_xscale('log')\n",
    "ax.set_xlim(ax.get_xlim())  \n",
    "plt.axis('tight')\n",
    "plt.xlabel('alpha')\n",
    "plt.ylabel('Coefficients')\n",
    "# plt.legend(list(X_train.columns), loc='best')\n",
    "\n",
    "plt.title('Lasso coefficients as a function of the regularization');"
   ]
  },
  {
   "cell_type": "code",
   "execution_count": 22,
   "id": "cb7a411d",
   "metadata": {},
   "outputs": [
    {
     "name": "stdout",
     "output_type": "stream",
     "text": [
      "The best alpha from LassoCV: 0.7924828983539177\n"
     ]
    }
   ],
   "source": [
    "# find the best alpha via CV with selected scoring metric\n",
    "lassocv = LassoCV(alphas=alphas, max_iter=10000)\n",
    "lassocv.fit(scale(X_train), y_train)\n",
    "\n",
    "print('The best alpha from LassoCV:', lassocv.alpha_)"
   ]
  },
  {
   "cell_type": "code",
   "execution_count": 23,
   "id": "a7fe0af4",
   "metadata": {},
   "outputs": [
    {
     "name": "stdout",
     "output_type": "stream",
     "text": [
      "The coefficients are:\n",
      "tempmax                   1.439375\n",
      "tempmin                   0.000000\n",
      "temp                      0.000000\n",
      "feelslikemax              0.000000\n",
      "feelslikemin              0.000000\n",
      "feelslike                 2.410625\n",
      "dew                       0.000000\n",
      "humidity                 -0.000000\n",
      "precip                   -0.000000\n",
      "precipprob               -0.000000\n",
      "precipcover              -0.000000\n",
      "snow                     -0.000000\n",
      "snowdepth                -0.000000\n",
      "windspeed                -0.611661\n",
      "winddir                   0.000000\n",
      "sealevelpressure         -0.000000\n",
      "cloudcover                0.000000\n",
      "visibility               -0.000000\n",
      "solarradiation            0.000000\n",
      "solarenergy               2.061292\n",
      "uvindex                   0.869532\n",
      "moonphase                 0.704540\n",
      "icon_partly-cloudy-day    0.037787\n",
      "icon_rain                -0.000000\n",
      "icon_snow                -0.000000\n",
      "icon_wind                 0.000000\n",
      "dtype: float64\n"
     ]
    }
   ],
   "source": [
    "# with the best alpha\n",
    "lasso.set_params(alpha=lassocv.alpha_)\n",
    "lasso.fit(scale(X_train), y_train)\n",
    "print('The coefficients are:')\n",
    "print(pd.Series(lasso.coef_.flatten(), index=X_train.columns))"
   ]
  },
  {
   "cell_type": "code",
   "execution_count": 24,
   "id": "0ee64310",
   "metadata": {},
   "outputs": [
    {
     "data": {
      "image/png": "[encoded data removed]",
      "text/plain": [
       "<Figure size 432x288 with 1 Axes>"
      ]
     },
     "metadata": {
      "needs_background": "light"
     },
     "output_type": "display_data"
    }
   ],
   "source": [
    "plt.semilogx(lassocv.alphas_, lassocv.mse_path_, linestyle=\":\")\n",
    "plt.plot(\n",
    "    lassocv.alphas_,\n",
    "    lassocv.mse_path_.mean(axis=-1),\n",
    "    color=\"black\",\n",
    "    label=\"Average across the folds\",\n",
    "    linewidth=2,\n",
    ")\n",
    "plt.axvline(lassocv.alpha_, linestyle=\"--\", color=\"black\", label=\"alpha: CV estimate\")\n",
    "\n",
    "\n",
    "plt.xlabel(r\"$\\alpha$\")\n",
    "plt.ylabel(\"Mean square error\")\n",
    "plt.legend()\n",
    "plt.title(\"MSE\")\n",
    "plt.show()"
   ]
  },
  {
   "cell_type": "code",
   "execution_count": 25,
   "id": "ec01b33c",
   "metadata": {},
   "outputs": [
    {
     "name": "stdout",
     "output_type": "stream",
     "text": [
      "MSE is 26.123\n"
     ]
    }
   ],
   "source": [
    "y_pred=lasso.predict(scale(X_test.values))\n",
    "mse_lasso = round(mean_squared_error(y_test, y_pred),3)\n",
    "print(f\"MSE is {mse_lasso}\")"
   ]
  },
  {
   "cell_type": "markdown",
   "id": "8fc3fae0",
   "metadata": {},
   "source": [
    "## Ridge CV"
   ]
  },
  {
   "cell_type": "code",
   "execution_count": 26,
   "id": "2f443bdc",
   "metadata": {},
   "outputs": [
    {
     "data": {
      "image/png": "[encoded data removed]",
      "text/plain": [
       "<Figure size 432x288 with 1 Axes>"
      ]
     },
     "metadata": {
      "needs_background": "light"
     },
     "output_type": "display_data"
    }
   ],
   "source": [
    "alphas = 10**np.linspace(-2,5,100)\n",
    "\n",
    "ridge = Ridge()\n",
    "coefs = []\n",
    "\n",
    "for a in alphas:\n",
    "    ridge.set_params(alpha=a)\n",
    "    ridge.fit(scale(X_train), y_train)\n",
    "    coefs.append(ridge.coef_)\n",
    "\n",
    "ax = plt.gca()\n",
    "ax.plot(alphas, coefs)\n",
    "ax.set_xscale('log')\n",
    "ax.set_xlim(ax.get_xlim())  \n",
    "plt.axis('tight')\n",
    "plt.xlabel('alpha')\n",
    "plt.ylabel('Coefficients')\n",
    "\n",
    "\n",
    "plt.title('Ridge coefficients as a function of the regularization');"
   ]
  },
  {
   "cell_type": "code",
   "execution_count": 27,
   "id": "55c0cf49",
   "metadata": {},
   "outputs": [],
   "source": [
    "# standardize the features\n",
    "from sklearn.preprocessing import StandardScaler\n",
    "\n",
    "scaler = StandardScaler().fit(X_train)"
   ]
  },
  {
   "cell_type": "code",
   "execution_count": 28,
   "id": "c4888018",
   "metadata": {},
   "outputs": [
    {
     "name": "stdout",
     "output_type": "stream",
     "text": [
      "The coefficients are:\n",
      "tempmax                   0.258847\n",
      "tempmin                   0.199451\n",
      "temp                      0.240523\n",
      "feelslikemax              0.255292\n",
      "feelslikemin              0.214795\n",
      "feelslike                 0.244293\n",
      "dew                       0.161576\n",
      "humidity                 -0.073548\n",
      "precip                   -0.113853\n",
      "precipprob               -0.092732\n",
      "precipcover              -0.140055\n",
      "snow                     -0.114542\n",
      "snowdepth                -0.141057\n",
      "windspeed                -0.093619\n",
      "winddir                   0.030979\n",
      "sealevelpressure         -0.018822\n",
      "cloudcover               -0.026863\n",
      "visibility                0.061176\n",
      "solarradiation            0.182837\n",
      "solarenergy               0.235042\n",
      "uvindex                   0.221777\n",
      "moonphase                 0.103182\n",
      "icon_partly-cloudy-day    0.131633\n",
      "icon_rain                -0.038435\n",
      "icon_snow                -0.127854\n",
      "icon_wind                 0.000000\n",
      "dtype: float64\n"
     ]
    }
   ],
   "source": [
    "# set a large alpha to get smaller coefficients\n",
    "ridge = Ridge(alpha=1000) \n",
    "ridge.fit(scaler.transform(X_train), y_train)\n",
    "\n",
    "print('The coefficients are:')\n",
    "print(pd.Series(ridge.coef_.flatten(), index=X_train.columns))"
   ]
  },
  {
   "cell_type": "code",
   "execution_count": 29,
   "id": "bdb782fd",
   "metadata": {},
   "outputs": [
    {
     "name": "stdout",
     "output_type": "stream",
     "text": [
      "The best alpha from RidgeCV: 65.79332246575676\n"
     ]
    }
   ],
   "source": [
    "# find the best alpha via CV with selected scoring metric\n",
    "ridgecv = RidgeCV(alphas=alphas, scoring='neg_mean_squared_error')\n",
    "ridgecv.fit(scale(X_train), y_train)\n",
    "\n",
    "print('The best alpha from RidgeCV:', ridgecv.alpha_)"
   ]
  },
  {
   "cell_type": "code",
   "execution_count": 30,
   "id": "36f6b2ed",
   "metadata": {},
   "outputs": [
    {
     "name": "stdout",
     "output_type": "stream",
     "text": [
      "The coefficients are:\n",
      "tempmax                   0.739769\n",
      "tempmin                   0.425433\n",
      "temp                      0.632092\n",
      "feelslikemax              0.707050\n",
      "feelslikemin              0.483291\n",
      "feelslike                 0.652014\n",
      "dew                       0.431116\n",
      "humidity                 -0.138160\n",
      "precip                   -0.300445\n",
      "precipprob               -0.211971\n",
      "precipcover              -0.460662\n",
      "snow                     -0.153124\n",
      "snowdepth                -0.540307\n",
      "windspeed                -0.755955\n",
      "winddir                   0.177708\n",
      "sealevelpressure         -0.196798\n",
      "cloudcover                0.198665\n",
      "visibility               -0.223754\n",
      "solarradiation            0.468011\n",
      "solarenergy               0.874738\n",
      "uvindex                   0.865579\n",
      "moonphase                 0.631625\n",
      "icon_partly-cloudy-day    0.368992\n",
      "icon_rain                -0.205668\n",
      "icon_snow                -0.122010\n",
      "icon_wind                 0.000000\n",
      "dtype: float64\n"
     ]
    }
   ],
   "source": [
    "# with the best alpha\n",
    "ridge.set_params(alpha=ridgecv.alpha_)\n",
    "ridge.fit(scale(X_train), y_train)\n",
    "print('The coefficients are:')\n",
    "print(pd.Series(ridge.coef_.flatten(), index=X_train.columns))"
   ]
  },
  {
   "cell_type": "code",
   "execution_count": 31,
   "id": "e9b2e93b",
   "metadata": {},
   "outputs": [
    {
     "name": "stdout",
     "output_type": "stream",
     "text": [
      "MSE is 31.032\n"
     ]
    }
   ],
   "source": [
    "y_pred=ridge.predict(scale(X_test.values))\n",
    "mse_ridge = round(mean_squared_error(y_test, y_pred),3)\n",
    "print(f\"MSE is {mse_ridge}\")"
   ]
  },
  {
   "cell_type": "markdown",
   "id": "72e3d52f",
   "metadata": {},
   "source": [
    "## Elastic net"
   ]
  },
  {
   "cell_type": "code",
   "execution_count": 32,
   "id": "68ce22b8",
   "metadata": {},
   "outputs": [
    {
     "name": "stdout",
     "output_type": "stream",
     "text": [
      "The best alpha from ElasticNetCV: 0.8423899729961688\n"
     ]
    }
   ],
   "source": [
    "from sklearn.linear_model import ElasticNet\n",
    "from sklearn.linear_model import ElasticNetCV\n",
    "\n",
    "ENcv = ElasticNetCV(alphas=None, cv=10, max_iter=10000) # default l1_ratio=0.5\n",
    "ENcv.fit(scale(X_train), y_train)\n",
    "\n",
    "print('The best alpha from ElasticNetCV:', ENcv.alpha_)"
   ]
  },
  {
   "cell_type": "code",
   "execution_count": 33,
   "id": "ade69f45",
   "metadata": {},
   "outputs": [
    {
     "name": "stdout",
     "output_type": "stream",
     "text": [
      "The coefficients are:\n",
      "tempmax                   0.861469\n",
      "tempmin                   0.266375\n",
      "temp                      0.704586\n",
      "feelslikemax              0.806870\n",
      "feelslikemin              0.424762\n",
      "feelslike                 0.764944\n",
      "dew                       0.194916\n",
      "humidity                 -0.000000\n",
      "precip                   -0.090745\n",
      "precipprob               -0.000000\n",
      "precipcover              -0.458301\n",
      "snow                     -0.000000\n",
      "snowdepth                -0.423528\n",
      "windspeed                -0.714385\n",
      "winddir                   0.000000\n",
      "sealevelpressure         -0.000000\n",
      "cloudcover                0.000000\n",
      "visibility               -0.000000\n",
      "solarradiation            0.167506\n",
      "solarenergy               1.101774\n",
      "uvindex                   1.032898\n",
      "moonphase                 0.610440\n",
      "icon_partly-cloudy-day    0.345409\n",
      "icon_rain                -0.000000\n",
      "icon_snow                -0.000000\n",
      "icon_wind                 0.000000\n",
      "dtype: float64\n"
     ]
    }
   ],
   "source": [
    "# with the best alpha\n",
    "lasso.set_params(alpha=lassocv.alpha_)\n",
    "lasso.fit(scale(X_train), y_train)\n",
    "\n",
    "\n",
    "EN=ElasticNet()\n",
    "EN.set_params(alpha=ENcv.alpha_)\n",
    "EN.fit(scale(X_train), y_train)\n",
    "\n",
    "print('The coefficients are:')\n",
    "print(pd.Series(EN.coef_.flatten(), index=X_train.columns))"
   ]
  },
  {
   "cell_type": "code",
   "execution_count": 34,
   "id": "2aca9413",
   "metadata": {},
   "outputs": [
    {
     "name": "stdout",
     "output_type": "stream",
     "text": [
      "Test MSE for ElasticNet is 28.391\n"
     ]
    }
   ],
   "source": [
    "y_pred = EN.predict(scale(X_test.values))\n",
    "mse_EN = round(mean_squared_error(y_test, y_pred), 3)\n",
    "print(f\"Test MSE for ElasticNet is {mse_EN}\")"
   ]
  },
  {
   "cell_type": "markdown",
   "id": "11810a64",
   "metadata": {},
   "source": [
    "## KNN"
   ]
  },
  {
   "cell_type": "code",
   "execution_count": 35,
   "id": "41932314",
   "metadata": {},
   "outputs": [],
   "source": [
    "from sklearn import neighbors\n",
    "from sklearn.metrics import mean_squared_error \n",
    "import matplotlib.pyplot as plt\n",
    "mse_train = [-1]*30\n",
    "mse_test = [-1]*30\n",
    "for K in range(30):\n",
    "    model = neighbors.KNeighborsRegressor(n_neighbors = K+1)\n",
    "    model.fit(X_train, y_train)  #fit the model\n",
    "    mse_train[K] = mean_squared_error(y_train, model.predict(X_train))\n",
    "    mse_test[K] = mean_squared_error(y_test, model.predict(X_test)) \n"
   ]
  },
  {
   "cell_type": "code",
   "execution_count": 36,
   "id": "d35c2b61",
   "metadata": {},
   "outputs": [
    {
     "data": {
      "image/png": "[encoded data removed]",
      "text/plain": [
       "<Figure size 864x648 with 1 Axes>"
      ]
     },
     "metadata": {
      "needs_background": "light"
     },
     "output_type": "display_data"
    }
   ],
   "source": [
    "import matplotlib.pyplot as plt\n",
    "fig, ax1 = plt.subplots(figsize=(12, 9))\n",
    "plt.plot(np.arange(30)+1, mse_train,  color = 'blue', marker = '.', markersize = 8, markeredgecolor = 'black', markerfacecolor = 'black',label = 'mse_train')\n",
    "plt.plot(np.arange(30)+1, mse_test,  color = 'red',marker = '.', markersize = 8, markeredgecolor = 'black', markerfacecolor = 'black', label = 'mse_test')\n",
    "plt.legend(fontsize=18)\n",
    "plt.title('MSE with different Ks', fontsize=22)\n",
    "plt.tick_params(labelsize=18)\n",
    "plt.show()"
   ]
  },
  {
   "cell_type": "code",
   "execution_count": 37,
   "id": "b54ff25a",
   "metadata": {},
   "outputs": [
    {
     "data": {
      "text/plain": [
       "8"
      ]
     },
     "execution_count": 37,
     "metadata": {},
     "output_type": "execute_result"
    }
   ],
   "source": [
    "# optimal k\n",
    "np.argmin(mse_test)+1"
   ]
  },
  {
   "cell_type": "code",
   "execution_count": 38,
   "id": "11258bec",
   "metadata": {},
   "outputs": [
    {
     "data": {
      "text/plain": [
       "33.74422554347826"
      ]
     },
     "execution_count": 38,
     "metadata": {},
     "output_type": "execute_result"
    }
   ],
   "source": [
    "# optimal MSE\n",
    "min(mse_test)"
   ]
  },
  {
   "cell_type": "markdown",
   "id": "de78fc4c",
   "metadata": {},
   "source": [
    "## You will try other methods (e.g., KNN) and tune hyperparameters when necessary"
   ]
  },
  {
   "cell_type": "code",
   "execution_count": 39,
   "id": "c3a4d2df",
   "metadata": {},
   "outputs": [
    {
     "name": "stdout",
     "output_type": "stream",
     "text": [
      "               Model        MSE Hyperparameters\n",
      "0  Linear Regression  47.308000             N/A\n",
      "1                KNN  33.744226           k = 8\n",
      "2           Lasso CV  26.123000        0.792483\n",
      "3           Ridge CV  31.032000       65.793322\n",
      "4        Elastic Net  28.391000         0.84239\n"
     ]
    }
   ],
   "source": [
    "import pandas as pd\n",
    "\n",
    "# Define data\n",
    "mse_values = [mse_lr, min(mse_test), mse_lasso, mse_ridge, mse_EN]\n",
    "hyperparameters = [\n",
    "    'N/A',\n",
    "    'k = 8',\n",
    "      lassocv.alpha_,\n",
    "    ridgecv.alpha_,\n",
    "    ENcv.alpha_\n",
    "]\n",
    "model_names = ['Linear Regression', 'KNN', 'Lasso CV', 'Ridge CV', 'Elastic Net']\n",
    "\n",
    "# Create table\n",
    "df = pd.DataFrame({\n",
    "    'Model': model_names,\n",
    "    'MSE': mse_values,\n",
    "    'Hyperparameters': hyperparameters\n",
    "})\n",
    "\n",
    "# Print table\n",
    "print(df)                                                   "
   ]
  },
  {
   "cell_type": "markdown",
   "id": "24458edd",
   "metadata": {},
   "source": [
    "### Scenario 1"
   ]
  },
  {
   "cell_type": "code",
   "execution_count": 40,
   "id": "975376af",
   "metadata": {},
   "outputs": [
    {
     "data": {
      "text/html": [
       "<div>\n",
       "<style scoped>\n",
       "    .dataframe tbody tr th:only-of-type {\n",
       "        vertical-align: middle;\n",
       "    }\n",
       "\n",
       "    .dataframe tbody tr th {\n",
       "        vertical-align: top;\n",
       "    }\n",
       "\n",
       "    .dataframe thead th {\n",
       "        text-align: right;\n",
       "    }\n",
       "</style>\n",
       "<table border=\"1\" class=\"dataframe\">\n",
       "  <thead>\n",
       "    <tr style=\"text-align: right;\">\n",
       "      <th></th>\n",
       "      <th>tempmax</th>\n",
       "      <th>tempmin</th>\n",
       "      <th>temp</th>\n",
       "      <th>feelslikemax</th>\n",
       "      <th>feelslikemin</th>\n",
       "      <th>feelslike</th>\n",
       "      <th>dew</th>\n",
       "      <th>humidity</th>\n",
       "      <th>precip</th>\n",
       "      <th>precipprob</th>\n",
       "      <th>...</th>\n",
       "      <th>cloudcover</th>\n",
       "      <th>visibility</th>\n",
       "      <th>solarradiation</th>\n",
       "      <th>solarenergy</th>\n",
       "      <th>uvindex</th>\n",
       "      <th>moonphase</th>\n",
       "      <th>icon_partly-cloudy-day</th>\n",
       "      <th>icon_rain</th>\n",
       "      <th>icon_snow</th>\n",
       "      <th>icon_wind</th>\n",
       "    </tr>\n",
       "  </thead>\n",
       "  <tbody>\n",
       "    <tr>\n",
       "      <th>108</th>\n",
       "      <td>81.6</td>\n",
       "      <td>54.6</td>\n",
       "      <td>66.1</td>\n",
       "      <td>81.3</td>\n",
       "      <td>54.6</td>\n",
       "      <td>66.1</td>\n",
       "      <td>50.9</td>\n",
       "      <td>59.4</td>\n",
       "      <td>0.0</td>\n",
       "      <td>0</td>\n",
       "      <td>...</td>\n",
       "      <td>46.4</td>\n",
       "      <td>9.9</td>\n",
       "      <td>150.4</td>\n",
       "      <td>12.9</td>\n",
       "      <td>8</td>\n",
       "      <td>0.81</td>\n",
       "      <td>1</td>\n",
       "      <td>0</td>\n",
       "      <td>0</td>\n",
       "      <td>0</td>\n",
       "    </tr>\n",
       "  </tbody>\n",
       "</table>\n",
       "<p>1 rows × 26 columns</p>\n",
       "</div>"
      ],
      "text/plain": [
       "     tempmax  tempmin  temp  feelslikemax  feelslikemin  feelslike   dew  \\\n",
       "108     81.6     54.6  66.1          81.3          54.6       66.1  50.9   \n",
       "\n",
       "     humidity  precip  precipprob  ...  cloudcover  visibility  \\\n",
       "108      59.4     0.0           0  ...        46.4         9.9   \n",
       "\n",
       "     solarradiation  solarenergy  uvindex  moonphase  icon_partly-cloudy-day  \\\n",
       "108           150.4         12.9        8       0.81                       1   \n",
       "\n",
       "     icon_rain  icon_snow  icon_wind  \n",
       "108          0          0          0  \n",
       "\n",
       "[1 rows x 26 columns]"
      ]
     },
     "execution_count": 40,
     "metadata": {},
     "output_type": "execute_result"
    }
   ],
   "source": [
    "X_test.iloc[[1]]"
   ]
  },
  {
   "cell_type": "code",
   "execution_count": 41,
   "id": "6abf90b6",
   "metadata": {},
   "outputs": [
    {
     "data": {
      "text/plain": [
       "array([[ 1.95104375,  1.4076512 ,  1.65364329,  1.79275956,  1.47538805,\n",
       "         1.566711  ,  1.47117669,  0.05729176, -0.50418676, -0.77759319,\n",
       "        -0.6157826 , -0.29673316, -0.31898644, -0.55420639, -1.11711811,\n",
       "         0.20181792, -1.1065189 ,  0.58910612,  1.28305108,  1.37001913,\n",
       "         1.30407902,  0.91093871,  0.92998111, -0.66143783, -0.38729833,\n",
       "         0.        ]])"
      ]
     },
     "execution_count": 41,
     "metadata": {},
     "output_type": "execute_result"
    }
   ],
   "source": [
    "scaler.transform(X_test.iloc[[1]])"
   ]
  },
  {
   "cell_type": "code",
   "execution_count": 42,
   "id": "343aa82c",
   "metadata": {},
   "outputs": [
    {
     "name": "stdout",
     "output_type": "stream",
     "text": [
      "[24.38499094]\n"
     ]
    }
   ],
   "source": [
    "y_pred1 = lasso.predict(scaler.transform(X_test.iloc[[1]]))\n",
    "print(y_pred1)\n"
   ]
  },
  {
   "cell_type": "code",
   "execution_count": 43,
   "id": "bc559f75",
   "metadata": {},
   "outputs": [
    {
     "data": {
      "text/plain": [
       "108    15\n",
       "Name: pu_ct, dtype: int64"
      ]
     },
     "execution_count": 43,
     "metadata": {},
     "output_type": "execute_result"
    }
   ],
   "source": [
    "y_test.iloc[[1]]"
   ]
  },
  {
   "cell_type": "code",
   "execution_count": null,
   "id": "4b4c05fa",
   "metadata": {},
   "outputs": [],
   "source": []
  },
  {
   "cell_type": "markdown",
   "id": "d281f6a9",
   "metadata": {},
   "source": [
    "### Scenario 2"
   ]
  },
  {
   "cell_type": "code",
   "execution_count": 44,
   "id": "97405e9c",
   "metadata": {},
   "outputs": [
    {
     "data": {
      "text/html": [
       "<div>\n",
       "<style scoped>\n",
       "    .dataframe tbody tr th:only-of-type {\n",
       "        vertical-align: middle;\n",
       "    }\n",
       "\n",
       "    .dataframe tbody tr th {\n",
       "        vertical-align: top;\n",
       "    }\n",
       "\n",
       "    .dataframe thead th {\n",
       "        text-align: right;\n",
       "    }\n",
       "</style>\n",
       "<table border=\"1\" class=\"dataframe\">\n",
       "  <thead>\n",
       "    <tr style=\"text-align: right;\">\n",
       "      <th></th>\n",
       "      <th>tempmax</th>\n",
       "      <th>tempmin</th>\n",
       "      <th>temp</th>\n",
       "      <th>feelslikemax</th>\n",
       "      <th>feelslikemin</th>\n",
       "      <th>feelslike</th>\n",
       "      <th>dew</th>\n",
       "      <th>humidity</th>\n",
       "      <th>precip</th>\n",
       "      <th>precipprob</th>\n",
       "      <th>...</th>\n",
       "      <th>cloudcover</th>\n",
       "      <th>visibility</th>\n",
       "      <th>solarradiation</th>\n",
       "      <th>solarenergy</th>\n",
       "      <th>uvindex</th>\n",
       "      <th>moonphase</th>\n",
       "      <th>icon_partly-cloudy-day</th>\n",
       "      <th>icon_rain</th>\n",
       "      <th>icon_snow</th>\n",
       "      <th>icon_wind</th>\n",
       "    </tr>\n",
       "  </thead>\n",
       "  <tbody>\n",
       "    <tr>\n",
       "      <th>60</th>\n",
       "      <td>78.0</td>\n",
       "      <td>49.5</td>\n",
       "      <td>66.4</td>\n",
       "      <td>78.0</td>\n",
       "      <td>46.3</td>\n",
       "      <td>66.1</td>\n",
       "      <td>53.0</td>\n",
       "      <td>64.1</td>\n",
       "      <td>0.005</td>\n",
       "      <td>100</td>\n",
       "      <td>...</td>\n",
       "      <td>83.0</td>\n",
       "      <td>9.9</td>\n",
       "      <td>56.2</td>\n",
       "      <td>4.9</td>\n",
       "      <td>4</td>\n",
       "      <td>0.08</td>\n",
       "      <td>0</td>\n",
       "      <td>1</td>\n",
       "      <td>0</td>\n",
       "      <td>0</td>\n",
       "    </tr>\n",
       "  </tbody>\n",
       "</table>\n",
       "<p>1 rows × 26 columns</p>\n",
       "</div>"
      ],
      "text/plain": [
       "    tempmax  tempmin  temp  feelslikemax  feelslikemin  feelslike   dew  \\\n",
       "60     78.0     49.5  66.4          78.0          46.3       66.1  53.0   \n",
       "\n",
       "    humidity  precip  precipprob  ...  cloudcover  visibility  solarradiation  \\\n",
       "60      64.1   0.005         100  ...        83.0         9.9            56.2   \n",
       "\n",
       "    solarenergy  uvindex  moonphase  icon_partly-cloudy-day  icon_rain  \\\n",
       "60          4.9        4       0.08                       0          1   \n",
       "\n",
       "    icon_snow  icon_wind  \n",
       "60          0          0  \n",
       "\n",
       "[1 rows x 26 columns]"
      ]
     },
     "execution_count": 44,
     "metadata": {},
     "output_type": "execute_result"
    }
   ],
   "source": [
    "X_test.iloc[[2]]"
   ]
  },
  {
   "cell_type": "code",
   "execution_count": 45,
   "id": "53c3a66e",
   "metadata": {},
   "outputs": [
    {
     "name": "stdout",
     "output_type": "stream",
     "text": [
      "[16.28220046]\n"
     ]
    }
   ],
   "source": [
    "y_pred2 = lasso.predict(scaler.transform(X_test.iloc[[2]]))\n",
    "print(y_pred2)"
   ]
  },
  {
   "cell_type": "code",
   "execution_count": 46,
   "id": "3ed30a38",
   "metadata": {},
   "outputs": [
    {
     "data": {
      "text/plain": [
       "60    13\n",
       "Name: pu_ct, dtype: int64"
      ]
     },
     "execution_count": 46,
     "metadata": {},
     "output_type": "execute_result"
    }
   ],
   "source": [
    "y_test.iloc[[2]]"
   ]
  },
  {
   "cell_type": "code",
   "execution_count": null,
   "id": "a1e03273",
   "metadata": {},
   "outputs": [],
   "source": []
  }
 ],
 "metadata": {
  "kernelspec": {
   "display_name": "Python 3 (ipykernel)",
   "language": "python",
   "name": "python3"
  },
  "language_info": {
   "codemirror_mode": {
    "name": "ipython",
    "version": 3
   },
   "file_extension": ".py",
   "mimetype": "text/x-python",
   "name": "python",
   "nbconvert_exporter": "python",
   "pygments_lexer": "ipython3",
   "version": "3.9.12"
  }
 },
 "nbformat": 4,
 "nbformat_minor": 5
}
