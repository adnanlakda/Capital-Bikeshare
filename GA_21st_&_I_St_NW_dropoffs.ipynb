{
  "cells": [
    {
      "cell_type": "code",
      "execution_count": null,
      "id": "71f2d692",
      "metadata": {
        "id": "71f2d692"
      },
      "outputs": [],
      "source": [
        "import pandas as pd\n",
        "import numpy as np\n",
        "import matplotlib.pyplot as plt\n",
        "import matplotlib.dates as mdates\n",
        "import seaborn as sns\n",
        "from sklearn.linear_model import LinearRegression, Ridge, RidgeCV, Lasso, LassoCV\n",
        "from sklearn.preprocessing import scale"
      ]
    },
    {
      "cell_type": "markdown",
      "id": "55a91441",
      "metadata": {
        "id": "55a91441"
      },
      "source": [
        "### Capital Bikeshare Data\n",
        "https://ride.capitalbikeshare.com/system-data\n",
        "\n",
        "We deal with data from Jan to Apr in 2022"
      ]
    },
    {
      "cell_type": "code",
      "execution_count": null,
      "id": "665bc200",
      "metadata": {
        "id": "665bc200"
      },
      "outputs": [],
      "source": [
        "# read csv files\n",
        "df_Jan=pd.read_csv('Data/202201-capitalbikeshare-tripdata.csv')\n",
        "df_Feb=pd.read_csv('Data/202202-capitalbikeshare-tripdata.csv')\n",
        "df_Mar=pd.read_csv('Data/202203-capitalbikeshare-tripdata.csv')\n",
        "df_Apr=pd.read_csv('Data/202204-capitalbikeshare-tripdata.csv')"
      ]
    },
    {
      "cell_type": "code",
      "execution_count": null,
      "id": "e370c1f7",
      "metadata": {
        "id": "e370c1f7",
        "outputId": "5e806b6d-3a2d-4d5c-8109-47f6e0987d74"
      },
      "outputs": [
        {
          "name": "stdout",
          "output_type": "stream",
          "text": [
            "<class 'pandas.core.frame.DataFrame'>\n",
            "Int64Index: 828621 entries, 0 to 310434\n",
            "Data columns (total 13 columns):\n",
            " #   Column              Non-Null Count   Dtype  \n",
            "---  ------              --------------   -----  \n",
            " 0   ride_id             828621 non-null  object \n",
            " 1   rideable_type       828621 non-null  object \n",
            " 2   started_at          828621 non-null  object \n",
            " 3   ended_at            828621 non-null  object \n",
            " 4   start_station_name  792027 non-null  object \n",
            " 5   start_station_id    792027 non-null  float64\n",
            " 6   end_station_name    786251 non-null  object \n",
            " 7   end_station_id      786251 non-null  float64\n",
            " 8   start_lat           828621 non-null  float64\n",
            " 9   start_lng           828621 non-null  float64\n",
            " 10  end_lat             827170 non-null  float64\n",
            " 11  end_lng             827170 non-null  float64\n",
            " 12  member_casual       828621 non-null  object \n",
            "dtypes: float64(6), object(7)\n",
            "memory usage: 88.5+ MB\n"
          ]
        }
      ],
      "source": [
        "# concat data\n",
        "df=pd.concat([df_Jan,df_Feb,df_Mar,df_Apr])\n",
        "df.info()"
      ]
    },
    {
      "cell_type": "code",
      "execution_count": null,
      "id": "6e4405c7",
      "metadata": {
        "id": "6e4405c7",
        "outputId": "aad49cb1-7ff3-45a5-b22f-b6b3c21e6170"
      },
      "outputs": [
        {
          "data": {
            "text/html": [
              "<div>\n",
              "<style scoped>\n",
              "    .dataframe tbody tr th:only-of-type {\n",
              "        vertical-align: middle;\n",
              "    }\n",
              "\n",
              "    .dataframe tbody tr th {\n",
              "        vertical-align: top;\n",
              "    }\n",
              "\n",
              "    .dataframe thead th {\n",
              "        text-align: right;\n",
              "    }\n",
              "</style>\n",
              "<table border=\"1\" class=\"dataframe\">\n",
              "  <thead>\n",
              "    <tr style=\"text-align: right;\">\n",
              "      <th></th>\n",
              "      <th>ride_id</th>\n",
              "      <th>rideable_type</th>\n",
              "      <th>started_at</th>\n",
              "      <th>ended_at</th>\n",
              "      <th>start_station_name</th>\n",
              "      <th>start_station_id</th>\n",
              "      <th>end_station_name</th>\n",
              "      <th>end_station_id</th>\n",
              "      <th>start_lat</th>\n",
              "      <th>start_lng</th>\n",
              "      <th>end_lat</th>\n",
              "      <th>end_lng</th>\n",
              "      <th>member_casual</th>\n",
              "    </tr>\n",
              "  </thead>\n",
              "  <tbody>\n",
              "    <tr>\n",
              "      <th>0</th>\n",
              "      <td>1B4445D591115BD9</td>\n",
              "      <td>classic_bike</td>\n",
              "      <td>2022-01-06 18:39:28</td>\n",
              "      <td>2022-01-06 18:43:03</td>\n",
              "      <td>Monroe Ave &amp; Leslie Ave</td>\n",
              "      <td>31087.0</td>\n",
              "      <td>Potomac Ave &amp; Main Line Blvd</td>\n",
              "      <td>31910.0</td>\n",
              "      <td>38.820932</td>\n",
              "      <td>-77.053096</td>\n",
              "      <td>38.822738</td>\n",
              "      <td>-77.049265</td>\n",
              "      <td>member</td>\n",
              "    </tr>\n",
              "    <tr>\n",
              "      <th>1</th>\n",
              "      <td>7F4A0E2F03EADEB7</td>\n",
              "      <td>classic_bike</td>\n",
              "      <td>2022-01-31 19:21:22</td>\n",
              "      <td>2022-01-31 19:27:33</td>\n",
              "      <td>14th &amp; L St NW</td>\n",
              "      <td>31283.0</td>\n",
              "      <td>10th &amp; G St NW</td>\n",
              "      <td>31274.0</td>\n",
              "      <td>38.903658</td>\n",
              "      <td>-77.031737</td>\n",
              "      <td>38.898243</td>\n",
              "      <td>-77.026235</td>\n",
              "      <td>member</td>\n",
              "    </tr>\n",
              "    <tr>\n",
              "      <th>2</th>\n",
              "      <td>30DD8A84164843AD</td>\n",
              "      <td>classic_bike</td>\n",
              "      <td>2022-01-07 15:28:39</td>\n",
              "      <td>2022-01-07 15:31:01</td>\n",
              "      <td>14th &amp; L St NW</td>\n",
              "      <td>31283.0</td>\n",
              "      <td>12th &amp; L St NW</td>\n",
              "      <td>31251.0</td>\n",
              "      <td>38.903658</td>\n",
              "      <td>-77.031737</td>\n",
              "      <td>38.903819</td>\n",
              "      <td>-77.028400</td>\n",
              "      <td>member</td>\n",
              "    </tr>\n",
              "    <tr>\n",
              "      <th>3</th>\n",
              "      <td>FC67665D7682D0A6</td>\n",
              "      <td>classic_bike</td>\n",
              "      <td>2022-01-27 20:09:25</td>\n",
              "      <td>2022-01-27 20:37:02</td>\n",
              "      <td>New York Ave &amp; Hecht Ave NE</td>\n",
              "      <td>31518.0</td>\n",
              "      <td>Nannie Helen Burroughs &amp; Minnesota Ave NE</td>\n",
              "      <td>31704.0</td>\n",
              "      <td>38.915604</td>\n",
              "      <td>-76.983683</td>\n",
              "      <td>38.901385</td>\n",
              "      <td>-76.941877</td>\n",
              "      <td>casual</td>\n",
              "    </tr>\n",
              "    <tr>\n",
              "      <th>4</th>\n",
              "      <td>7854F7CC4F631A1E</td>\n",
              "      <td>classic_bike</td>\n",
              "      <td>2022-01-07 16:14:28</td>\n",
              "      <td>2022-01-07 16:16:13</td>\n",
              "      <td>Falls Church City Hall / Park Ave &amp; Little Fal...</td>\n",
              "      <td>32608.0</td>\n",
              "      <td>Pennsylvania Ave &amp; Park Ave</td>\n",
              "      <td>32603.0</td>\n",
              "      <td>38.885434</td>\n",
              "      <td>-77.173605</td>\n",
              "      <td>38.887403</td>\n",
              "      <td>-77.176992</td>\n",
              "      <td>member</td>\n",
              "    </tr>\n",
              "  </tbody>\n",
              "</table>\n",
              "</div>"
            ],
            "text/plain": [
              "            ride_id rideable_type           started_at             ended_at  \\\n",
              "0  1B4445D591115BD9  classic_bike  2022-01-06 18:39:28  2022-01-06 18:43:03   \n",
              "1  7F4A0E2F03EADEB7  classic_bike  2022-01-31 19:21:22  2022-01-31 19:27:33   \n",
              "2  30DD8A84164843AD  classic_bike  2022-01-07 15:28:39  2022-01-07 15:31:01   \n",
              "3  FC67665D7682D0A6  classic_bike  2022-01-27 20:09:25  2022-01-27 20:37:02   \n",
              "4  7854F7CC4F631A1E  classic_bike  2022-01-07 16:14:28  2022-01-07 16:16:13   \n",
              "\n",
              "                                  start_station_name  start_station_id  \\\n",
              "0                            Monroe Ave & Leslie Ave           31087.0   \n",
              "1                                     14th & L St NW           31283.0   \n",
              "2                                     14th & L St NW           31283.0   \n",
              "3                        New York Ave & Hecht Ave NE           31518.0   \n",
              "4  Falls Church City Hall / Park Ave & Little Fal...           32608.0   \n",
              "\n",
              "                            end_station_name  end_station_id  start_lat  \\\n",
              "0               Potomac Ave & Main Line Blvd         31910.0  38.820932   \n",
              "1                             10th & G St NW         31274.0  38.903658   \n",
              "2                             12th & L St NW         31251.0  38.903658   \n",
              "3  Nannie Helen Burroughs & Minnesota Ave NE         31704.0  38.915604   \n",
              "4                Pennsylvania Ave & Park Ave         32603.0  38.885434   \n",
              "\n",
              "   start_lng    end_lat    end_lng member_casual  \n",
              "0 -77.053096  38.822738 -77.049265        member  \n",
              "1 -77.031737  38.898243 -77.026235        member  \n",
              "2 -77.031737  38.903819 -77.028400        member  \n",
              "3 -76.983683  38.901385 -76.941877        casual  \n",
              "4 -77.173605  38.887403 -77.176992        member  "
            ]
          },
          "execution_count": 4,
          "metadata": {},
          "output_type": "execute_result"
        }
      ],
      "source": [
        "df.head()"
      ]
    },
    {
      "cell_type": "markdown",
      "id": "1520a1db",
      "metadata": {
        "id": "1520a1db"
      },
      "source": [
        "### Be careful when dealing with time and date"
      ]
    },
    {
      "cell_type": "code",
      "execution_count": null,
      "id": "5f55be11",
      "metadata": {
        "id": "5f55be11"
      },
      "outputs": [],
      "source": [
        "# Transform time to date ONLY\n",
        "df['started_at_date'] = pd.to_datetime(df['started_at']).dt.date\n",
        "df['ended_at_date'] = pd.to_datetime(df['ended_at']).dt.date"
      ]
    },
    {
      "cell_type": "code",
      "execution_count": null,
      "id": "88f12e86",
      "metadata": {
        "id": "88f12e86",
        "outputId": "485e6e88-7417-40d3-f605-9271a9758c57"
      },
      "outputs": [
        {
          "data": {
            "text/html": [
              "<div>\n",
              "<style scoped>\n",
              "    .dataframe tbody tr th:only-of-type {\n",
              "        vertical-align: middle;\n",
              "    }\n",
              "\n",
              "    .dataframe tbody tr th {\n",
              "        vertical-align: top;\n",
              "    }\n",
              "\n",
              "    .dataframe thead th {\n",
              "        text-align: right;\n",
              "    }\n",
              "</style>\n",
              "<table border=\"1\" class=\"dataframe\">\n",
              "  <thead>\n",
              "    <tr style=\"text-align: right;\">\n",
              "      <th></th>\n",
              "      <th>ride_id</th>\n",
              "      <th>rideable_type</th>\n",
              "      <th>started_at</th>\n",
              "      <th>ended_at</th>\n",
              "      <th>start_station_name</th>\n",
              "      <th>start_station_id</th>\n",
              "      <th>end_station_name</th>\n",
              "      <th>end_station_id</th>\n",
              "      <th>start_lat</th>\n",
              "      <th>start_lng</th>\n",
              "      <th>end_lat</th>\n",
              "      <th>end_lng</th>\n",
              "      <th>member_casual</th>\n",
              "      <th>started_at_date</th>\n",
              "      <th>ended_at_date</th>\n",
              "    </tr>\n",
              "  </thead>\n",
              "  <tbody>\n",
              "    <tr>\n",
              "      <th>0</th>\n",
              "      <td>1B4445D591115BD9</td>\n",
              "      <td>classic_bike</td>\n",
              "      <td>2022-01-06 18:39:28</td>\n",
              "      <td>2022-01-06 18:43:03</td>\n",
              "      <td>Monroe Ave &amp; Leslie Ave</td>\n",
              "      <td>31087.0</td>\n",
              "      <td>Potomac Ave &amp; Main Line Blvd</td>\n",
              "      <td>31910.0</td>\n",
              "      <td>38.820932</td>\n",
              "      <td>-77.053096</td>\n",
              "      <td>38.822738</td>\n",
              "      <td>-77.049265</td>\n",
              "      <td>member</td>\n",
              "      <td>2022-01-06</td>\n",
              "      <td>2022-01-06</td>\n",
              "    </tr>\n",
              "    <tr>\n",
              "      <th>1</th>\n",
              "      <td>7F4A0E2F03EADEB7</td>\n",
              "      <td>classic_bike</td>\n",
              "      <td>2022-01-31 19:21:22</td>\n",
              "      <td>2022-01-31 19:27:33</td>\n",
              "      <td>14th &amp; L St NW</td>\n",
              "      <td>31283.0</td>\n",
              "      <td>10th &amp; G St NW</td>\n",
              "      <td>31274.0</td>\n",
              "      <td>38.903658</td>\n",
              "      <td>-77.031737</td>\n",
              "      <td>38.898243</td>\n",
              "      <td>-77.026235</td>\n",
              "      <td>member</td>\n",
              "      <td>2022-01-31</td>\n",
              "      <td>2022-01-31</td>\n",
              "    </tr>\n",
              "    <tr>\n",
              "      <th>2</th>\n",
              "      <td>30DD8A84164843AD</td>\n",
              "      <td>classic_bike</td>\n",
              "      <td>2022-01-07 15:28:39</td>\n",
              "      <td>2022-01-07 15:31:01</td>\n",
              "      <td>14th &amp; L St NW</td>\n",
              "      <td>31283.0</td>\n",
              "      <td>12th &amp; L St NW</td>\n",
              "      <td>31251.0</td>\n",
              "      <td>38.903658</td>\n",
              "      <td>-77.031737</td>\n",
              "      <td>38.903819</td>\n",
              "      <td>-77.028400</td>\n",
              "      <td>member</td>\n",
              "      <td>2022-01-07</td>\n",
              "      <td>2022-01-07</td>\n",
              "    </tr>\n",
              "    <tr>\n",
              "      <th>3</th>\n",
              "      <td>FC67665D7682D0A6</td>\n",
              "      <td>classic_bike</td>\n",
              "      <td>2022-01-27 20:09:25</td>\n",
              "      <td>2022-01-27 20:37:02</td>\n",
              "      <td>New York Ave &amp; Hecht Ave NE</td>\n",
              "      <td>31518.0</td>\n",
              "      <td>Nannie Helen Burroughs &amp; Minnesota Ave NE</td>\n",
              "      <td>31704.0</td>\n",
              "      <td>38.915604</td>\n",
              "      <td>-76.983683</td>\n",
              "      <td>38.901385</td>\n",
              "      <td>-76.941877</td>\n",
              "      <td>casual</td>\n",
              "      <td>2022-01-27</td>\n",
              "      <td>2022-01-27</td>\n",
              "    </tr>\n",
              "    <tr>\n",
              "      <th>4</th>\n",
              "      <td>7854F7CC4F631A1E</td>\n",
              "      <td>classic_bike</td>\n",
              "      <td>2022-01-07 16:14:28</td>\n",
              "      <td>2022-01-07 16:16:13</td>\n",
              "      <td>Falls Church City Hall / Park Ave &amp; Little Fal...</td>\n",
              "      <td>32608.0</td>\n",
              "      <td>Pennsylvania Ave &amp; Park Ave</td>\n",
              "      <td>32603.0</td>\n",
              "      <td>38.885434</td>\n",
              "      <td>-77.173605</td>\n",
              "      <td>38.887403</td>\n",
              "      <td>-77.176992</td>\n",
              "      <td>member</td>\n",
              "      <td>2022-01-07</td>\n",
              "      <td>2022-01-07</td>\n",
              "    </tr>\n",
              "  </tbody>\n",
              "</table>\n",
              "</div>"
            ],
            "text/plain": [
              "            ride_id rideable_type           started_at             ended_at  \\\n",
              "0  1B4445D591115BD9  classic_bike  2022-01-06 18:39:28  2022-01-06 18:43:03   \n",
              "1  7F4A0E2F03EADEB7  classic_bike  2022-01-31 19:21:22  2022-01-31 19:27:33   \n",
              "2  30DD8A84164843AD  classic_bike  2022-01-07 15:28:39  2022-01-07 15:31:01   \n",
              "3  FC67665D7682D0A6  classic_bike  2022-01-27 20:09:25  2022-01-27 20:37:02   \n",
              "4  7854F7CC4F631A1E  classic_bike  2022-01-07 16:14:28  2022-01-07 16:16:13   \n",
              "\n",
              "                                  start_station_name  start_station_id  \\\n",
              "0                            Monroe Ave & Leslie Ave           31087.0   \n",
              "1                                     14th & L St NW           31283.0   \n",
              "2                                     14th & L St NW           31283.0   \n",
              "3                        New York Ave & Hecht Ave NE           31518.0   \n",
              "4  Falls Church City Hall / Park Ave & Little Fal...           32608.0   \n",
              "\n",
              "                            end_station_name  end_station_id  start_lat  \\\n",
              "0               Potomac Ave & Main Line Blvd         31910.0  38.820932   \n",
              "1                             10th & G St NW         31274.0  38.903658   \n",
              "2                             12th & L St NW         31251.0  38.903658   \n",
              "3  Nannie Helen Burroughs & Minnesota Ave NE         31704.0  38.915604   \n",
              "4                Pennsylvania Ave & Park Ave         32603.0  38.885434   \n",
              "\n",
              "   start_lng    end_lat    end_lng member_casual started_at_date ended_at_date  \n",
              "0 -77.053096  38.822738 -77.049265        member      2022-01-06    2022-01-06  \n",
              "1 -77.031737  38.898243 -77.026235        member      2022-01-31    2022-01-31  \n",
              "2 -77.031737  38.903819 -77.028400        member      2022-01-07    2022-01-07  \n",
              "3 -76.983683  38.901385 -76.941877        casual      2022-01-27    2022-01-27  \n",
              "4 -77.173605  38.887403 -77.176992        member      2022-01-07    2022-01-07  "
            ]
          },
          "execution_count": 6,
          "metadata": {},
          "output_type": "execute_result"
        }
      ],
      "source": [
        "df.head()"
      ]
    },
    {
      "cell_type": "markdown",
      "id": "fb061040",
      "metadata": {
        "id": "fb061040"
      },
      "source": [
        "## For demonstration, we consider GWSB station \"22nd & H St NW\"\n",
        "### Students will work with '21st & I St NW' and '21st St & Pennsylvania Ave NW' instead."
      ]
    },
    {
      "cell_type": "markdown",
      "id": "d01737fc",
      "metadata": {
        "id": "d01737fc"
      },
      "source": [
        "### Count daily pickups"
      ]
    },
    {
      "cell_type": "code",
      "execution_count": null,
      "id": "143741b5",
      "metadata": {
        "id": "143741b5",
        "outputId": "192715a9-0753-475f-c522-bb6843d0430a"
      },
      "outputs": [
        {
          "data": {
            "text/html": [
              "<div>\n",
              "<style scoped>\n",
              "    .dataframe tbody tr th:only-of-type {\n",
              "        vertical-align: middle;\n",
              "    }\n",
              "\n",
              "    .dataframe tbody tr th {\n",
              "        vertical-align: top;\n",
              "    }\n",
              "\n",
              "    .dataframe thead th {\n",
              "        text-align: right;\n",
              "    }\n",
              "</style>\n",
              "<table border=\"1\" class=\"dataframe\">\n",
              "  <thead>\n",
              "    <tr style=\"text-align: right;\">\n",
              "      <th></th>\n",
              "      <th>started_at_date</th>\n",
              "      <th>start_station_name</th>\n",
              "      <th>pu_ct</th>\n",
              "    </tr>\n",
              "  </thead>\n",
              "  <tbody>\n",
              "    <tr>\n",
              "      <th>0</th>\n",
              "      <td>2022-01-01</td>\n",
              "      <td>21st &amp; I St NW</td>\n",
              "      <td>7</td>\n",
              "    </tr>\n",
              "    <tr>\n",
              "      <th>1</th>\n",
              "      <td>2022-01-02</td>\n",
              "      <td>21st &amp; I St NW</td>\n",
              "      <td>5</td>\n",
              "    </tr>\n",
              "    <tr>\n",
              "      <th>2</th>\n",
              "      <td>2022-01-04</td>\n",
              "      <td>21st &amp; I St NW</td>\n",
              "      <td>2</td>\n",
              "    </tr>\n",
              "    <tr>\n",
              "      <th>3</th>\n",
              "      <td>2022-01-05</td>\n",
              "      <td>21st &amp; I St NW</td>\n",
              "      <td>5</td>\n",
              "    </tr>\n",
              "    <tr>\n",
              "      <th>4</th>\n",
              "      <td>2022-01-06</td>\n",
              "      <td>21st &amp; I St NW</td>\n",
              "      <td>10</td>\n",
              "    </tr>\n",
              "    <tr>\n",
              "      <th>...</th>\n",
              "      <td>...</td>\n",
              "      <td>...</td>\n",
              "      <td>...</td>\n",
              "    </tr>\n",
              "    <tr>\n",
              "      <th>113</th>\n",
              "      <td>2022-04-26</td>\n",
              "      <td>21st &amp; I St NW</td>\n",
              "      <td>49</td>\n",
              "    </tr>\n",
              "    <tr>\n",
              "      <th>114</th>\n",
              "      <td>2022-04-27</td>\n",
              "      <td>21st &amp; I St NW</td>\n",
              "      <td>67</td>\n",
              "    </tr>\n",
              "    <tr>\n",
              "      <th>115</th>\n",
              "      <td>2022-04-28</td>\n",
              "      <td>21st &amp; I St NW</td>\n",
              "      <td>58</td>\n",
              "    </tr>\n",
              "    <tr>\n",
              "      <th>116</th>\n",
              "      <td>2022-04-29</td>\n",
              "      <td>21st &amp; I St NW</td>\n",
              "      <td>69</td>\n",
              "    </tr>\n",
              "    <tr>\n",
              "      <th>117</th>\n",
              "      <td>2022-04-30</td>\n",
              "      <td>21st &amp; I St NW</td>\n",
              "      <td>47</td>\n",
              "    </tr>\n",
              "  </tbody>\n",
              "</table>\n",
              "<p>118 rows × 3 columns</p>\n",
              "</div>"
            ],
            "text/plain": [
              "    started_at_date start_station_name  pu_ct\n",
              "0        2022-01-01     21st & I St NW      7\n",
              "1        2022-01-02     21st & I St NW      5\n",
              "2        2022-01-04     21st & I St NW      2\n",
              "3        2022-01-05     21st & I St NW      5\n",
              "4        2022-01-06     21st & I St NW     10\n",
              "..              ...                ...    ...\n",
              "113      2022-04-26     21st & I St NW     49\n",
              "114      2022-04-27     21st & I St NW     67\n",
              "115      2022-04-28     21st & I St NW     58\n",
              "116      2022-04-29     21st & I St NW     69\n",
              "117      2022-04-30     21st & I St NW     47\n",
              "\n",
              "[118 rows x 3 columns]"
            ]
          },
          "execution_count": 7,
          "metadata": {},
          "output_type": "execute_result"
        }
      ],
      "source": [
        "# Group and get pickup occurrence for 22nd & H St NW\n",
        "df_sub1 = df[df['start_station_name']==\"21st & I St NW\"]\n",
        "df_grp1 = df_sub1.groupby(['started_at_date','start_station_name']).size()\n",
        "df_pu=df_grp1.reset_index(name = \"pu_ct\")\n",
        "df_pu"
      ]
    },
    {
      "cell_type": "markdown",
      "id": "0da58a9c",
      "metadata": {
        "id": "0da58a9c"
      },
      "source": [
        "### Count daily dropoffs"
      ]
    },
    {
      "cell_type": "code",
      "execution_count": null,
      "id": "1ab7421d",
      "metadata": {
        "id": "1ab7421d",
        "outputId": "7d708823-40c3-47a9-a6b4-58ba23bbd6fc"
      },
      "outputs": [
        {
          "data": {
            "text/html": [
              "<div>\n",
              "<style scoped>\n",
              "    .dataframe tbody tr th:only-of-type {\n",
              "        vertical-align: middle;\n",
              "    }\n",
              "\n",
              "    .dataframe tbody tr th {\n",
              "        vertical-align: top;\n",
              "    }\n",
              "\n",
              "    .dataframe thead th {\n",
              "        text-align: right;\n",
              "    }\n",
              "</style>\n",
              "<table border=\"1\" class=\"dataframe\">\n",
              "  <thead>\n",
              "    <tr style=\"text-align: right;\">\n",
              "      <th></th>\n",
              "      <th>ended_at_date</th>\n",
              "      <th>end_station_name</th>\n",
              "      <th>do_ct</th>\n",
              "    </tr>\n",
              "  </thead>\n",
              "  <tbody>\n",
              "    <tr>\n",
              "      <th>0</th>\n",
              "      <td>2022-01-01</td>\n",
              "      <td>21st &amp; I St NW</td>\n",
              "      <td>5</td>\n",
              "    </tr>\n",
              "    <tr>\n",
              "      <th>1</th>\n",
              "      <td>2022-01-02</td>\n",
              "      <td>21st &amp; I St NW</td>\n",
              "      <td>5</td>\n",
              "    </tr>\n",
              "    <tr>\n",
              "      <th>2</th>\n",
              "      <td>2022-01-04</td>\n",
              "      <td>21st &amp; I St NW</td>\n",
              "      <td>6</td>\n",
              "    </tr>\n",
              "    <tr>\n",
              "      <th>3</th>\n",
              "      <td>2022-01-05</td>\n",
              "      <td>21st &amp; I St NW</td>\n",
              "      <td>5</td>\n",
              "    </tr>\n",
              "    <tr>\n",
              "      <th>4</th>\n",
              "      <td>2022-01-06</td>\n",
              "      <td>21st &amp; I St NW</td>\n",
              "      <td>10</td>\n",
              "    </tr>\n",
              "    <tr>\n",
              "      <th>...</th>\n",
              "      <td>...</td>\n",
              "      <td>...</td>\n",
              "      <td>...</td>\n",
              "    </tr>\n",
              "    <tr>\n",
              "      <th>113</th>\n",
              "      <td>2022-04-26</td>\n",
              "      <td>21st &amp; I St NW</td>\n",
              "      <td>67</td>\n",
              "    </tr>\n",
              "    <tr>\n",
              "      <th>114</th>\n",
              "      <td>2022-04-27</td>\n",
              "      <td>21st &amp; I St NW</td>\n",
              "      <td>53</td>\n",
              "    </tr>\n",
              "    <tr>\n",
              "      <th>115</th>\n",
              "      <td>2022-04-28</td>\n",
              "      <td>21st &amp; I St NW</td>\n",
              "      <td>57</td>\n",
              "    </tr>\n",
              "    <tr>\n",
              "      <th>116</th>\n",
              "      <td>2022-04-29</td>\n",
              "      <td>21st &amp; I St NW</td>\n",
              "      <td>63</td>\n",
              "    </tr>\n",
              "    <tr>\n",
              "      <th>117</th>\n",
              "      <td>2022-04-30</td>\n",
              "      <td>21st &amp; I St NW</td>\n",
              "      <td>44</td>\n",
              "    </tr>\n",
              "  </tbody>\n",
              "</table>\n",
              "<p>118 rows × 3 columns</p>\n",
              "</div>"
            ],
            "text/plain": [
              "    ended_at_date end_station_name  do_ct\n",
              "0      2022-01-01   21st & I St NW      5\n",
              "1      2022-01-02   21st & I St NW      5\n",
              "2      2022-01-04   21st & I St NW      6\n",
              "3      2022-01-05   21st & I St NW      5\n",
              "4      2022-01-06   21st & I St NW     10\n",
              "..            ...              ...    ...\n",
              "113    2022-04-26   21st & I St NW     67\n",
              "114    2022-04-27   21st & I St NW     53\n",
              "115    2022-04-28   21st & I St NW     57\n",
              "116    2022-04-29   21st & I St NW     63\n",
              "117    2022-04-30   21st & I St NW     44\n",
              "\n",
              "[118 rows x 3 columns]"
            ]
          },
          "execution_count": 8,
          "metadata": {},
          "output_type": "execute_result"
        }
      ],
      "source": [
        "# Group and get drop off occurrence for 22nd & H St NW\n",
        "df_sub2 = df[df['end_station_name']==\"21st & I St NW\"]\n",
        "df_grp2 = df_sub2.groupby(['ended_at_date','end_station_name']).size()\n",
        "df_do=df_grp2.reset_index(name = \"do_ct\")\n",
        "df_do"
      ]
    },
    {
      "cell_type": "markdown",
      "id": "4f5c2444",
      "metadata": {
        "id": "4f5c2444"
      },
      "source": [
        "### Visualize pickups and dropoffs"
      ]
    },
    {
      "cell_type": "code",
      "execution_count": null,
      "id": "4f5fcd69",
      "metadata": {
        "id": "4f5fcd69",
        "outputId": "3c7a8aa6-53bd-429f-ebfa-07470e529971"
      },
      "outputs": [
        {
          "data": {
            "image/png": "[encoded data removed]",
            "text/plain": [
              "<Figure size 864x648 with 1 Axes>"
            ]
          },
          "metadata": {
            "needs_background": "light"
          },
          "output_type": "display_data"
        }
      ],
      "source": [
        "fig, ax1 = plt.subplots(figsize=(12, 9))\n",
        "ax1.plot_date( df_pu['started_at_date'], df_pu['pu_ct'],linestyle = 'solid',markeredgecolor = 'blue',markerfacecolor = 'blue', markersize = 3)\n",
        "ax1.plot_date( df_do['ended_at_date'], df_do['do_ct'],linestyle = 'solid',markeredgecolor = 'red',markerfacecolor = 'red', markersize = 3)\n",
        "\n",
        "ax1.set_xlabel('Date',fontsize=10)\n",
        "ax1.set_ylabel('Count',fontsize=16)\n",
        "plt.gcf().autofmt_xdate()\n",
        "\n",
        "plt.tick_params(labelsize=18)\n",
        "plt.show()"
      ]
    },
    {
      "cell_type": "markdown",
      "id": "cbb1a6e3",
      "metadata": {
        "id": "cbb1a6e3"
      },
      "source": [
        "## Weather Data"
      ]
    },
    {
      "cell_type": "code",
      "execution_count": null,
      "id": "91178cea",
      "metadata": {
        "id": "91178cea",
        "outputId": "e2acb3b5-fd9a-468e-dbf0-2ee21e2e319a"
      },
      "outputs": [
        {
          "data": {
            "text/html": [
              "<div>\n",
              "<style scoped>\n",
              "    .dataframe tbody tr th:only-of-type {\n",
              "        vertical-align: middle;\n",
              "    }\n",
              "\n",
              "    .dataframe tbody tr th {\n",
              "        vertical-align: top;\n",
              "    }\n",
              "\n",
              "    .dataframe thead th {\n",
              "        text-align: right;\n",
              "    }\n",
              "</style>\n",
              "<table border=\"1\" class=\"dataframe\">\n",
              "  <thead>\n",
              "    <tr style=\"text-align: right;\">\n",
              "      <th></th>\n",
              "      <th>name</th>\n",
              "      <th>datetime</th>\n",
              "      <th>tempmax</th>\n",
              "      <th>tempmin</th>\n",
              "      <th>temp</th>\n",
              "      <th>feelslikemax</th>\n",
              "      <th>feelslikemin</th>\n",
              "      <th>feelslike</th>\n",
              "      <th>dew</th>\n",
              "      <th>humidity</th>\n",
              "      <th>...</th>\n",
              "      <th>solarenergy</th>\n",
              "      <th>uvindex</th>\n",
              "      <th>severerisk</th>\n",
              "      <th>sunrise</th>\n",
              "      <th>sunset</th>\n",
              "      <th>moonphase</th>\n",
              "      <th>conditions</th>\n",
              "      <th>description</th>\n",
              "      <th>icon</th>\n",
              "      <th>stations</th>\n",
              "    </tr>\n",
              "  </thead>\n",
              "  <tbody>\n",
              "    <tr>\n",
              "      <th>0</th>\n",
              "      <td>Washington,DC,USA</td>\n",
              "      <td>2022-01-01</td>\n",
              "      <td>63.5</td>\n",
              "      <td>54.1</td>\n",
              "      <td>58.3</td>\n",
              "      <td>63.5</td>\n",
              "      <td>54.1</td>\n",
              "      <td>58.3</td>\n",
              "      <td>56.0</td>\n",
              "      <td>92.1</td>\n",
              "      <td>...</td>\n",
              "      <td>0.6</td>\n",
              "      <td>0</td>\n",
              "      <td>NaN</td>\n",
              "      <td>2022-01-01T07:26:53</td>\n",
              "      <td>2022-01-01T16:56:53</td>\n",
              "      <td>0.99</td>\n",
              "      <td>Rain, Overcast</td>\n",
              "      <td>Cloudy skies throughout the day with rain.</td>\n",
              "      <td>rain</td>\n",
              "      <td>KDCA,72405013743,72403793728,F0198,KADW,KDAA,A...</td>\n",
              "    </tr>\n",
              "    <tr>\n",
              "      <th>1</th>\n",
              "      <td>Washington,DC,USA</td>\n",
              "      <td>2022-01-02</td>\n",
              "      <td>62.7</td>\n",
              "      <td>47.8</td>\n",
              "      <td>57.5</td>\n",
              "      <td>62.7</td>\n",
              "      <td>42.0</td>\n",
              "      <td>57.0</td>\n",
              "      <td>51.6</td>\n",
              "      <td>81.6</td>\n",
              "      <td>...</td>\n",
              "      <td>1.7</td>\n",
              "      <td>1</td>\n",
              "      <td>NaN</td>\n",
              "      <td>2022-01-02T07:27:00</td>\n",
              "      <td>2022-01-02T16:57:43</td>\n",
              "      <td>1.00</td>\n",
              "      <td>Rain, Overcast</td>\n",
              "      <td>Cloudy skies throughout the day with rain clea...</td>\n",
              "      <td>rain</td>\n",
              "      <td>KDCA,72405013743,72403793728,F0198,KADW,KDAA,7...</td>\n",
              "    </tr>\n",
              "    <tr>\n",
              "      <th>2</th>\n",
              "      <td>Washington,DC,USA</td>\n",
              "      <td>2022-01-03</td>\n",
              "      <td>46.0</td>\n",
              "      <td>26.1</td>\n",
              "      <td>32.7</td>\n",
              "      <td>39.4</td>\n",
              "      <td>14.3</td>\n",
              "      <td>23.0</td>\n",
              "      <td>26.6</td>\n",
              "      <td>78.7</td>\n",
              "      <td>...</td>\n",
              "      <td>0.0</td>\n",
              "      <td>0</td>\n",
              "      <td>NaN</td>\n",
              "      <td>2022-01-03T07:27:05</td>\n",
              "      <td>2022-01-03T16:58:34</td>\n",
              "      <td>0.00</td>\n",
              "      <td>Snow, Rain, Partially cloudy</td>\n",
              "      <td>Partly cloudy throughout the day with a chance...</td>\n",
              "      <td>snow</td>\n",
              "      <td>KDCA,72405013743,72403793728,F0198,KADW,KDAA,A...</td>\n",
              "    </tr>\n",
              "    <tr>\n",
              "      <th>3</th>\n",
              "      <td>Washington,DC,USA</td>\n",
              "      <td>2022-01-04</td>\n",
              "      <td>34.0</td>\n",
              "      <td>25.3</td>\n",
              "      <td>29.4</td>\n",
              "      <td>33.7</td>\n",
              "      <td>16.0</td>\n",
              "      <td>24.0</td>\n",
              "      <td>19.2</td>\n",
              "      <td>65.7</td>\n",
              "      <td>...</td>\n",
              "      <td>5.4</td>\n",
              "      <td>6</td>\n",
              "      <td>NaN</td>\n",
              "      <td>2022-01-04T07:27:07</td>\n",
              "      <td>2022-01-04T16:59:27</td>\n",
              "      <td>0.02</td>\n",
              "      <td>Clear</td>\n",
              "      <td>Clear conditions throughout the day.</td>\n",
              "      <td>snow</td>\n",
              "      <td>KDCA,72405013743,72403793728,D6279,F0198,KADW,...</td>\n",
              "    </tr>\n",
              "    <tr>\n",
              "      <th>4</th>\n",
              "      <td>Washington,DC,USA</td>\n",
              "      <td>2022-01-05</td>\n",
              "      <td>40.8</td>\n",
              "      <td>28.1</td>\n",
              "      <td>35.8</td>\n",
              "      <td>37.2</td>\n",
              "      <td>19.8</td>\n",
              "      <td>29.5</td>\n",
              "      <td>29.0</td>\n",
              "      <td>76.3</td>\n",
              "      <td>...</td>\n",
              "      <td>2.2</td>\n",
              "      <td>1</td>\n",
              "      <td>NaN</td>\n",
              "      <td>2022-01-05T07:27:08</td>\n",
              "      <td>2022-01-05T17:00:21</td>\n",
              "      <td>0.05</td>\n",
              "      <td>Partially cloudy</td>\n",
              "      <td>Partly cloudy throughout the day.</td>\n",
              "      <td>partly-cloudy-day</td>\n",
              "      <td>KDCA,72405013743,72403793728,F0198,KADW,KDAA,7...</td>\n",
              "    </tr>\n",
              "  </tbody>\n",
              "</table>\n",
              "<p>5 rows × 33 columns</p>\n",
              "</div>"
            ],
            "text/plain": [
              "                name    datetime  tempmax  tempmin  temp  feelslikemax  \\\n",
              "0  Washington,DC,USA  2022-01-01     63.5     54.1  58.3          63.5   \n",
              "1  Washington,DC,USA  2022-01-02     62.7     47.8  57.5          62.7   \n",
              "2  Washington,DC,USA  2022-01-03     46.0     26.1  32.7          39.4   \n",
              "3  Washington,DC,USA  2022-01-04     34.0     25.3  29.4          33.7   \n",
              "4  Washington,DC,USA  2022-01-05     40.8     28.1  35.8          37.2   \n",
              "\n",
              "   feelslikemin  feelslike   dew  humidity  ...  solarenergy  uvindex  \\\n",
              "0          54.1       58.3  56.0      92.1  ...          0.6        0   \n",
              "1          42.0       57.0  51.6      81.6  ...          1.7        1   \n",
              "2          14.3       23.0  26.6      78.7  ...          0.0        0   \n",
              "3          16.0       24.0  19.2      65.7  ...          5.4        6   \n",
              "4          19.8       29.5  29.0      76.3  ...          2.2        1   \n",
              "\n",
              "   severerisk              sunrise               sunset  moonphase  \\\n",
              "0         NaN  2022-01-01T07:26:53  2022-01-01T16:56:53       0.99   \n",
              "1         NaN  2022-01-02T07:27:00  2022-01-02T16:57:43       1.00   \n",
              "2         NaN  2022-01-03T07:27:05  2022-01-03T16:58:34       0.00   \n",
              "3         NaN  2022-01-04T07:27:07  2022-01-04T16:59:27       0.02   \n",
              "4         NaN  2022-01-05T07:27:08  2022-01-05T17:00:21       0.05   \n",
              "\n",
              "                     conditions  \\\n",
              "0                Rain, Overcast   \n",
              "1                Rain, Overcast   \n",
              "2  Snow, Rain, Partially cloudy   \n",
              "3                         Clear   \n",
              "4              Partially cloudy   \n",
              "\n",
              "                                         description               icon  \\\n",
              "0         Cloudy skies throughout the day with rain.               rain   \n",
              "1  Cloudy skies throughout the day with rain clea...               rain   \n",
              "2  Partly cloudy throughout the day with a chance...               snow   \n",
              "3               Clear conditions throughout the day.               snow   \n",
              "4                  Partly cloudy throughout the day.  partly-cloudy-day   \n",
              "\n",
              "                                            stations  \n",
              "0  KDCA,72405013743,72403793728,F0198,KADW,KDAA,A...  \n",
              "1  KDCA,72405013743,72403793728,F0198,KADW,KDAA,7...  \n",
              "2  KDCA,72405013743,72403793728,F0198,KADW,KDAA,A...  \n",
              "3  KDCA,72405013743,72403793728,D6279,F0198,KADW,...  \n",
              "4  KDCA,72405013743,72403793728,F0198,KADW,KDAA,7...  \n",
              "\n",
              "[5 rows x 33 columns]"
            ]
          },
          "execution_count": 10,
          "metadata": {},
          "output_type": "execute_result"
        }
      ],
      "source": [
        "df_weather = pd.read_csv('Data/DC Weather 2022-01-01 to 2022-12-31.csv')\n",
        "\n",
        "df_weather.head()"
      ]
    },
    {
      "cell_type": "markdown",
      "id": "6b289bbc",
      "metadata": {
        "id": "6b289bbc"
      },
      "source": [
        "## Check missing values"
      ]
    },
    {
      "cell_type": "code",
      "execution_count": null,
      "id": "8c89c41a",
      "metadata": {
        "id": "8c89c41a",
        "outputId": "f58f8a90-a154-4ec2-8bce-89d5ed10722d"
      },
      "outputs": [
        {
          "data": {
            "image/png": "[encoded data removed]",
            "text/plain": [
              "<Figure size 432x288 with 2 Axes>"
            ]
          },
          "metadata": {
            "needs_background": "light"
          },
          "output_type": "display_data"
        }
      ],
      "source": [
        "# Date time format\n",
        "df_weather['datetime'] = pd.to_datetime(df_weather['datetime']).dt.date\n",
        "\n",
        "# Use sns heatmap to see whats are the null values.\n",
        "coln = df_weather.columns[:df_weather.shape[1]]\n",
        "colors = ['#000099','#ffff00'] # specify the colors - yellow is missing. blue is not missing.\n",
        "sns.heatmap(df_weather[coln].isnull(), cmap = sns.color_palette(colors))\n",
        "plt.show()"
      ]
    },
    {
      "cell_type": "markdown",
      "id": "94f6001e",
      "metadata": {
        "id": "94f6001e"
      },
      "source": [
        "## Drop variables of your choice"
      ]
    },
    {
      "cell_type": "code",
      "execution_count": null,
      "id": "82a937c9",
      "metadata": {
        "id": "82a937c9"
      },
      "outputs": [],
      "source": [
        "# Drop unnecessary variables\n",
        "df_weather=df_weather.drop(columns=['name', 'stations','description','sunrise','sunset','conditions','severerisk','preciptype','windgust'])"
      ]
    },
    {
      "cell_type": "markdown",
      "id": "a28e9ce3",
      "metadata": {
        "id": "a28e9ce3"
      },
      "source": [
        "## Prepare X and y: Merge weather data with trip data"
      ]
    },
    {
      "cell_type": "code",
      "execution_count": null,
      "id": "a5ea795f",
      "metadata": {
        "id": "a5ea795f"
      },
      "outputs": [],
      "source": [
        "# Merge with weather data and remove dates and station name\n",
        "\n",
        "df_m_pu = df_pu.merge(df_weather, left_on='started_at_date', right_on='datetime')\n",
        "df_m_pu = df_m_pu.drop(columns=['started_at_date','start_station_name','datetime'])\n",
        "df_m_do = df_do.merge(df_weather, left_on='ended_at_date', right_on='datetime')\n",
        "df_m_do = df_m_do.drop(columns=['ended_at_date','end_station_name','datetime'])"
      ]
    },
    {
      "cell_type": "code",
      "execution_count": null,
      "id": "8cd69dfb",
      "metadata": {
        "scrolled": true,
        "id": "8cd69dfb",
        "outputId": "b3059937-5a81-484d-fba8-8454eefe000d"
      },
      "outputs": [
        {
          "data": {
            "text/html": [
              "<div>\n",
              "<style scoped>\n",
              "    .dataframe tbody tr th:only-of-type {\n",
              "        vertical-align: middle;\n",
              "    }\n",
              "\n",
              "    .dataframe tbody tr th {\n",
              "        vertical-align: top;\n",
              "    }\n",
              "\n",
              "    .dataframe thead th {\n",
              "        text-align: right;\n",
              "    }\n",
              "</style>\n",
              "<table border=\"1\" class=\"dataframe\">\n",
              "  <thead>\n",
              "    <tr style=\"text-align: right;\">\n",
              "      <th></th>\n",
              "      <th>do_ct</th>\n",
              "      <th>tempmax</th>\n",
              "      <th>tempmin</th>\n",
              "      <th>temp</th>\n",
              "      <th>feelslikemax</th>\n",
              "      <th>feelslikemin</th>\n",
              "      <th>feelslike</th>\n",
              "      <th>dew</th>\n",
              "      <th>humidity</th>\n",
              "      <th>precip</th>\n",
              "      <th>...</th>\n",
              "      <th>windspeed</th>\n",
              "      <th>winddir</th>\n",
              "      <th>sealevelpressure</th>\n",
              "      <th>cloudcover</th>\n",
              "      <th>visibility</th>\n",
              "      <th>solarradiation</th>\n",
              "      <th>solarenergy</th>\n",
              "      <th>uvindex</th>\n",
              "      <th>moonphase</th>\n",
              "      <th>icon</th>\n",
              "    </tr>\n",
              "  </thead>\n",
              "  <tbody>\n",
              "    <tr>\n",
              "      <th>0</th>\n",
              "      <td>5</td>\n",
              "      <td>63.5</td>\n",
              "      <td>54.1</td>\n",
              "      <td>58.3</td>\n",
              "      <td>63.5</td>\n",
              "      <td>54.1</td>\n",
              "      <td>58.3</td>\n",
              "      <td>56.0</td>\n",
              "      <td>92.1</td>\n",
              "      <td>0.448</td>\n",
              "      <td>...</td>\n",
              "      <td>11.4</td>\n",
              "      <td>190.2</td>\n",
              "      <td>1007.2</td>\n",
              "      <td>99.5</td>\n",
              "      <td>6.2</td>\n",
              "      <td>21.4</td>\n",
              "      <td>0.6</td>\n",
              "      <td>0</td>\n",
              "      <td>0.99</td>\n",
              "      <td>rain</td>\n",
              "    </tr>\n",
              "    <tr>\n",
              "      <th>1</th>\n",
              "      <td>5</td>\n",
              "      <td>62.7</td>\n",
              "      <td>47.8</td>\n",
              "      <td>57.5</td>\n",
              "      <td>62.7</td>\n",
              "      <td>42.0</td>\n",
              "      <td>57.0</td>\n",
              "      <td>51.6</td>\n",
              "      <td>81.6</td>\n",
              "      <td>0.124</td>\n",
              "      <td>...</td>\n",
              "      <td>18.9</td>\n",
              "      <td>290.7</td>\n",
              "      <td>1006.6</td>\n",
              "      <td>91.6</td>\n",
              "      <td>9.6</td>\n",
              "      <td>47.3</td>\n",
              "      <td>1.7</td>\n",
              "      <td>1</td>\n",
              "      <td>1.00</td>\n",
              "      <td>rain</td>\n",
              "    </tr>\n",
              "    <tr>\n",
              "      <th>2</th>\n",
              "      <td>6</td>\n",
              "      <td>34.0</td>\n",
              "      <td>25.3</td>\n",
              "      <td>29.4</td>\n",
              "      <td>33.7</td>\n",
              "      <td>16.0</td>\n",
              "      <td>24.0</td>\n",
              "      <td>19.2</td>\n",
              "      <td>65.7</td>\n",
              "      <td>0.000</td>\n",
              "      <td>...</td>\n",
              "      <td>14.1</td>\n",
              "      <td>192.1</td>\n",
              "      <td>1029.7</td>\n",
              "      <td>18.7</td>\n",
              "      <td>9.9</td>\n",
              "      <td>153.2</td>\n",
              "      <td>5.4</td>\n",
              "      <td>6</td>\n",
              "      <td>0.02</td>\n",
              "      <td>snow</td>\n",
              "    </tr>\n",
              "    <tr>\n",
              "      <th>3</th>\n",
              "      <td>5</td>\n",
              "      <td>40.8</td>\n",
              "      <td>28.1</td>\n",
              "      <td>35.8</td>\n",
              "      <td>37.2</td>\n",
              "      <td>19.8</td>\n",
              "      <td>29.5</td>\n",
              "      <td>29.0</td>\n",
              "      <td>76.3</td>\n",
              "      <td>0.000</td>\n",
              "      <td>...</td>\n",
              "      <td>13.6</td>\n",
              "      <td>195.2</td>\n",
              "      <td>1014.5</td>\n",
              "      <td>82.6</td>\n",
              "      <td>9.9</td>\n",
              "      <td>63.5</td>\n",
              "      <td>2.2</td>\n",
              "      <td>1</td>\n",
              "      <td>0.05</td>\n",
              "      <td>partly-cloudy-day</td>\n",
              "    </tr>\n",
              "    <tr>\n",
              "      <th>4</th>\n",
              "      <td>10</td>\n",
              "      <td>42.9</td>\n",
              "      <td>36.9</td>\n",
              "      <td>39.8</td>\n",
              "      <td>40.6</td>\n",
              "      <td>29.5</td>\n",
              "      <td>35.3</td>\n",
              "      <td>24.2</td>\n",
              "      <td>55.0</td>\n",
              "      <td>0.000</td>\n",
              "      <td>...</td>\n",
              "      <td>12.9</td>\n",
              "      <td>16.0</td>\n",
              "      <td>1012.7</td>\n",
              "      <td>88.1</td>\n",
              "      <td>9.9</td>\n",
              "      <td>145.6</td>\n",
              "      <td>5.3</td>\n",
              "      <td>4</td>\n",
              "      <td>0.09</td>\n",
              "      <td>snow</td>\n",
              "    </tr>\n",
              "  </tbody>\n",
              "</table>\n",
              "<p>5 rows × 24 columns</p>\n",
              "</div>"
            ],
            "text/plain": [
              "   do_ct  tempmax  tempmin  temp  feelslikemax  feelslikemin  feelslike   dew  \\\n",
              "0      5     63.5     54.1  58.3          63.5          54.1       58.3  56.0   \n",
              "1      5     62.7     47.8  57.5          62.7          42.0       57.0  51.6   \n",
              "2      6     34.0     25.3  29.4          33.7          16.0       24.0  19.2   \n",
              "3      5     40.8     28.1  35.8          37.2          19.8       29.5  29.0   \n",
              "4     10     42.9     36.9  39.8          40.6          29.5       35.3  24.2   \n",
              "\n",
              "   humidity  precip  ...  windspeed  winddir  sealevelpressure  cloudcover  \\\n",
              "0      92.1   0.448  ...       11.4    190.2            1007.2        99.5   \n",
              "1      81.6   0.124  ...       18.9    290.7            1006.6        91.6   \n",
              "2      65.7   0.000  ...       14.1    192.1            1029.7        18.7   \n",
              "3      76.3   0.000  ...       13.6    195.2            1014.5        82.6   \n",
              "4      55.0   0.000  ...       12.9     16.0            1012.7        88.1   \n",
              "\n",
              "   visibility  solarradiation  solarenergy  uvindex  moonphase  \\\n",
              "0         6.2            21.4          0.6        0       0.99   \n",
              "1         9.6            47.3          1.7        1       1.00   \n",
              "2         9.9           153.2          5.4        6       0.02   \n",
              "3         9.9            63.5          2.2        1       0.05   \n",
              "4         9.9           145.6          5.3        4       0.09   \n",
              "\n",
              "                icon  \n",
              "0               rain  \n",
              "1               rain  \n",
              "2               snow  \n",
              "3  partly-cloudy-day  \n",
              "4               snow  \n",
              "\n",
              "[5 rows x 24 columns]"
            ]
          },
          "execution_count": 14,
          "metadata": {},
          "output_type": "execute_result"
        }
      ],
      "source": [
        "df_m_do.head()"
      ]
    },
    {
      "cell_type": "markdown",
      "id": "7ef1734d",
      "metadata": {
        "id": "7ef1734d"
      },
      "source": [
        "# Demo: train linear models"
      ]
    },
    {
      "cell_type": "code",
      "execution_count": null,
      "id": "995ad1cd",
      "metadata": {
        "id": "995ad1cd"
      },
      "outputs": [],
      "source": [
        "from sklearn.model_selection import train_test_split\n",
        "from sklearn.linear_model import LinearRegression\n",
        "from sklearn.metrics import mean_squared_error"
      ]
    },
    {
      "cell_type": "code",
      "execution_count": null,
      "id": "0217869f",
      "metadata": {
        "id": "0217869f",
        "outputId": "cc763810-9d55-4474-babb-3396b7b1940f"
      },
      "outputs": [
        {
          "data": {
            "text/html": [
              "<div>\n",
              "<style scoped>\n",
              "    .dataframe tbody tr th:only-of-type {\n",
              "        vertical-align: middle;\n",
              "    }\n",
              "\n",
              "    .dataframe tbody tr th {\n",
              "        vertical-align: top;\n",
              "    }\n",
              "\n",
              "    .dataframe thead th {\n",
              "        text-align: right;\n",
              "    }\n",
              "</style>\n",
              "<table border=\"1\" class=\"dataframe\">\n",
              "  <thead>\n",
              "    <tr style=\"text-align: right;\">\n",
              "      <th></th>\n",
              "      <th>tempmax</th>\n",
              "      <th>tempmin</th>\n",
              "      <th>temp</th>\n",
              "      <th>feelslikemax</th>\n",
              "      <th>feelslikemin</th>\n",
              "      <th>feelslike</th>\n",
              "      <th>dew</th>\n",
              "      <th>humidity</th>\n",
              "      <th>precip</th>\n",
              "      <th>precipprob</th>\n",
              "      <th>...</th>\n",
              "      <th>cloudcover</th>\n",
              "      <th>visibility</th>\n",
              "      <th>solarradiation</th>\n",
              "      <th>solarenergy</th>\n",
              "      <th>uvindex</th>\n",
              "      <th>moonphase</th>\n",
              "      <th>icon_partly-cloudy-day</th>\n",
              "      <th>icon_rain</th>\n",
              "      <th>icon_snow</th>\n",
              "      <th>icon_wind</th>\n",
              "    </tr>\n",
              "  </thead>\n",
              "  <tbody>\n",
              "    <tr>\n",
              "      <th>0</th>\n",
              "      <td>63.5</td>\n",
              "      <td>54.1</td>\n",
              "      <td>58.3</td>\n",
              "      <td>63.5</td>\n",
              "      <td>54.1</td>\n",
              "      <td>58.3</td>\n",
              "      <td>56.0</td>\n",
              "      <td>92.1</td>\n",
              "      <td>0.448</td>\n",
              "      <td>100</td>\n",
              "      <td>...</td>\n",
              "      <td>99.5</td>\n",
              "      <td>6.2</td>\n",
              "      <td>21.4</td>\n",
              "      <td>0.6</td>\n",
              "      <td>0</td>\n",
              "      <td>0.99</td>\n",
              "      <td>0</td>\n",
              "      <td>1</td>\n",
              "      <td>0</td>\n",
              "      <td>0</td>\n",
              "    </tr>\n",
              "    <tr>\n",
              "      <th>1</th>\n",
              "      <td>62.7</td>\n",
              "      <td>47.8</td>\n",
              "      <td>57.5</td>\n",
              "      <td>62.7</td>\n",
              "      <td>42.0</td>\n",
              "      <td>57.0</td>\n",
              "      <td>51.6</td>\n",
              "      <td>81.6</td>\n",
              "      <td>0.124</td>\n",
              "      <td>100</td>\n",
              "      <td>...</td>\n",
              "      <td>91.6</td>\n",
              "      <td>9.6</td>\n",
              "      <td>47.3</td>\n",
              "      <td>1.7</td>\n",
              "      <td>1</td>\n",
              "      <td>1.00</td>\n",
              "      <td>0</td>\n",
              "      <td>1</td>\n",
              "      <td>0</td>\n",
              "      <td>0</td>\n",
              "    </tr>\n",
              "    <tr>\n",
              "      <th>2</th>\n",
              "      <td>34.0</td>\n",
              "      <td>25.3</td>\n",
              "      <td>29.4</td>\n",
              "      <td>33.7</td>\n",
              "      <td>16.0</td>\n",
              "      <td>24.0</td>\n",
              "      <td>19.2</td>\n",
              "      <td>65.7</td>\n",
              "      <td>0.000</td>\n",
              "      <td>0</td>\n",
              "      <td>...</td>\n",
              "      <td>18.7</td>\n",
              "      <td>9.9</td>\n",
              "      <td>153.2</td>\n",
              "      <td>5.4</td>\n",
              "      <td>6</td>\n",
              "      <td>0.02</td>\n",
              "      <td>0</td>\n",
              "      <td>0</td>\n",
              "      <td>1</td>\n",
              "      <td>0</td>\n",
              "    </tr>\n",
              "    <tr>\n",
              "      <th>3</th>\n",
              "      <td>40.8</td>\n",
              "      <td>28.1</td>\n",
              "      <td>35.8</td>\n",
              "      <td>37.2</td>\n",
              "      <td>19.8</td>\n",
              "      <td>29.5</td>\n",
              "      <td>29.0</td>\n",
              "      <td>76.3</td>\n",
              "      <td>0.000</td>\n",
              "      <td>0</td>\n",
              "      <td>...</td>\n",
              "      <td>82.6</td>\n",
              "      <td>9.9</td>\n",
              "      <td>63.5</td>\n",
              "      <td>2.2</td>\n",
              "      <td>1</td>\n",
              "      <td>0.05</td>\n",
              "      <td>1</td>\n",
              "      <td>0</td>\n",
              "      <td>0</td>\n",
              "      <td>0</td>\n",
              "    </tr>\n",
              "    <tr>\n",
              "      <th>4</th>\n",
              "      <td>42.9</td>\n",
              "      <td>36.9</td>\n",
              "      <td>39.8</td>\n",
              "      <td>40.6</td>\n",
              "      <td>29.5</td>\n",
              "      <td>35.3</td>\n",
              "      <td>24.2</td>\n",
              "      <td>55.0</td>\n",
              "      <td>0.000</td>\n",
              "      <td>0</td>\n",
              "      <td>...</td>\n",
              "      <td>88.1</td>\n",
              "      <td>9.9</td>\n",
              "      <td>145.6</td>\n",
              "      <td>5.3</td>\n",
              "      <td>4</td>\n",
              "      <td>0.09</td>\n",
              "      <td>0</td>\n",
              "      <td>0</td>\n",
              "      <td>1</td>\n",
              "      <td>0</td>\n",
              "    </tr>\n",
              "  </tbody>\n",
              "</table>\n",
              "<p>5 rows × 26 columns</p>\n",
              "</div>"
            ],
            "text/plain": [
              "   tempmax  tempmin  temp  feelslikemax  feelslikemin  feelslike   dew  \\\n",
              "0     63.5     54.1  58.3          63.5          54.1       58.3  56.0   \n",
              "1     62.7     47.8  57.5          62.7          42.0       57.0  51.6   \n",
              "2     34.0     25.3  29.4          33.7          16.0       24.0  19.2   \n",
              "3     40.8     28.1  35.8          37.2          19.8       29.5  29.0   \n",
              "4     42.9     36.9  39.8          40.6          29.5       35.3  24.2   \n",
              "\n",
              "   humidity  precip  precipprob  ...  cloudcover  visibility  solarradiation  \\\n",
              "0      92.1   0.448         100  ...        99.5         6.2            21.4   \n",
              "1      81.6   0.124         100  ...        91.6         9.6            47.3   \n",
              "2      65.7   0.000           0  ...        18.7         9.9           153.2   \n",
              "3      76.3   0.000           0  ...        82.6         9.9            63.5   \n",
              "4      55.0   0.000           0  ...        88.1         9.9           145.6   \n",
              "\n",
              "   solarenergy  uvindex  moonphase  icon_partly-cloudy-day  icon_rain  \\\n",
              "0          0.6        0       0.99                       0          1   \n",
              "1          1.7        1       1.00                       0          1   \n",
              "2          5.4        6       0.02                       0          0   \n",
              "3          2.2        1       0.05                       1          0   \n",
              "4          5.3        4       0.09                       0          0   \n",
              "\n",
              "   icon_snow  icon_wind  \n",
              "0          0          0  \n",
              "1          0          0  \n",
              "2          1          0  \n",
              "3          0          0  \n",
              "4          1          0  \n",
              "\n",
              "[5 rows x 26 columns]"
            ]
          },
          "execution_count": 16,
          "metadata": {},
          "output_type": "execute_result"
        }
      ],
      "source": [
        "# pickup\n",
        "y = df_m_do['do_ct']\n",
        "X = df_m_do.drop('do_ct',axis=1)\n",
        "X = pd.get_dummies(data=X, drop_first=True)\n",
        "X.head()"
      ]
    },
    {
      "cell_type": "code",
      "execution_count": null,
      "id": "0519bbe5",
      "metadata": {
        "id": "0519bbe5"
      },
      "outputs": [],
      "source": [
        "X_train,X_test, y_train,y_test = train_test_split(X,y, test_size=0.4, random_state = 200)"
      ]
    },
    {
      "cell_type": "markdown",
      "id": "cbefb488",
      "metadata": {
        "id": "cbefb488"
      },
      "source": [
        "## Linear Regression"
      ]
    },
    {
      "cell_type": "code",
      "execution_count": null,
      "id": "087e30ef",
      "metadata": {
        "id": "087e30ef"
      },
      "outputs": [],
      "source": [
        "linear_regressor = LinearRegression()\n",
        "linear_regressor.fit(X_train, y_train)\n",
        "y_pred = linear_regressor.predict(X_test)"
      ]
    },
    {
      "cell_type": "code",
      "execution_count": null,
      "id": "c51848a6",
      "metadata": {
        "id": "c51848a6",
        "outputId": "5fd0f767-01cb-4674-e113-bd9a7e2ef8e4"
      },
      "outputs": [
        {
          "name": "stdout",
          "output_type": "stream",
          "text": [
            "tempmax                    0.685609\n",
            "tempmin                    1.325933\n",
            "temp                      -4.087984\n",
            "feelslikemax              -0.743661\n",
            "feelslikemin              -1.411161\n",
            "feelslike                  1.422090\n",
            "dew                        4.354584\n",
            "humidity                  -2.334513\n",
            "precip                    13.481857\n",
            "precipprob                 0.075972\n",
            "precipcover               -0.301099\n",
            "snow                      -3.270237\n",
            "snowdepth                  1.567371\n",
            "windspeed                 -1.300018\n",
            "winddir                    0.016408\n",
            "sealevelpressure           0.329531\n",
            "cloudcover                 0.038046\n",
            "visibility                -0.885912\n",
            "solarradiation            -0.327798\n",
            "solarenergy                4.079766\n",
            "uvindex                   -0.250852\n",
            "moonphase                  9.744829\n",
            "icon_partly-cloudy-day     2.519802\n",
            "icon_rain                 -2.591437\n",
            "icon_snow                  0.071634\n",
            "icon_wind                  0.000000\n",
            "dtype: float64\n"
          ]
        }
      ],
      "source": [
        "print(pd.Series(linear_regressor.coef_.flatten(), index=X_train.columns))"
      ]
    },
    {
      "cell_type": "code",
      "execution_count": null,
      "id": "6abff7a2",
      "metadata": {
        "id": "6abff7a2",
        "outputId": "c27988c3-ba00-4b03-edbd-992be9742f94"
      },
      "outputs": [
        {
          "name": "stdout",
          "output_type": "stream",
          "text": [
            "MSE is 233.961\n"
          ]
        }
      ],
      "source": [
        "mse_lr = round(mean_squared_error(y_test, y_pred),3)\n",
        "print(f\"MSE is {mse_lr}\")"
      ]
    },
    {
      "cell_type": "markdown",
      "id": "c0d36dfc",
      "metadata": {
        "id": "c0d36dfc"
      },
      "source": [
        "## LASSO CV"
      ]
    },
    {
      "cell_type": "code",
      "execution_count": null,
      "id": "8fe10ead",
      "metadata": {
        "id": "8fe10ead",
        "outputId": "4ffc24c8-1e4f-4290-ebab-19cb5716803c"
      },
      "outputs": [
        {
          "data": {
            "image/png": "[encoded data removed]",
            "text/plain": [
              "<Figure size 432x288 with 1 Axes>"
            ]
          },
          "metadata": {
            "needs_background": "light"
          },
          "output_type": "display_data"
        }
      ],
      "source": [
        "alphas = 10**np.linspace(-2,2,100)\n",
        "\n",
        "lasso = Lasso()\n",
        "coefs = []\n",
        "\n",
        "for a in alphas:\n",
        "    lasso.set_params(alpha=a, max_iter=10000) # increase iterations for optimization of coefficients\n",
        "    lasso.fit(scale(X_train), y_train)\n",
        "    coefs.append(lasso.coef_)\n",
        "\n",
        "ax = plt.gca()\n",
        "ax.plot(alphas, coefs)\n",
        "ax.set_xscale('log')\n",
        "ax.set_xlim(ax.get_xlim())\n",
        "plt.axis('tight')\n",
        "plt.xlabel('alpha')\n",
        "plt.ylabel('Coefficients')\n",
        "# plt.legend(list(X_train.columns), loc='best')\n",
        "\n",
        "plt.title('Lasso coefficients as a function of the regularization');"
      ]
    },
    {
      "cell_type": "code",
      "execution_count": null,
      "id": "cb7a411d",
      "metadata": {
        "id": "cb7a411d",
        "outputId": "af21edcd-ecd0-431c-ea5e-040ddf6fd3e2"
      },
      "outputs": [
        {
          "name": "stdout",
          "output_type": "stream",
          "text": [
            "The best alpha from LassoCV: 0.7220809018385468\n"
          ]
        }
      ],
      "source": [
        "# find the best alpha via CV with selected scoring metric\n",
        "lassocv = LassoCV(alphas=alphas, max_iter=10000)\n",
        "lassocv.fit(scale(X_train), y_train)\n",
        "\n",
        "print('The best alpha from LassoCV:', lassocv.alpha_)"
      ]
    },
    {
      "cell_type": "code",
      "execution_count": null,
      "id": "a7fe0af4",
      "metadata": {
        "id": "a7fe0af4",
        "outputId": "dcd0ff83-9367-4a80-ccbc-75fb8ee99332"
      },
      "outputs": [
        {
          "name": "stdout",
          "output_type": "stream",
          "text": [
            "The coefficients are:\n",
            "tempmax                   0.000000\n",
            "tempmin                   0.000000\n",
            "temp                      9.629816\n",
            "feelslikemax              0.000000\n",
            "feelslikemin              0.000000\n",
            "feelslike                 0.000000\n",
            "dew                       0.000000\n",
            "humidity                 -1.198794\n",
            "precip                    0.000000\n",
            "precipprob               -0.000000\n",
            "precipcover              -1.312996\n",
            "snow                     -0.000000\n",
            "snowdepth                -3.974668\n",
            "windspeed                -3.051639\n",
            "winddir                  -0.000000\n",
            "sealevelpressure          0.517770\n",
            "cloudcover                0.000000\n",
            "visibility                1.661285\n",
            "solarradiation           -0.000000\n",
            "solarenergy               2.742897\n",
            "uvindex                   0.000000\n",
            "moonphase                 2.364949\n",
            "icon_partly-cloudy-day    0.000000\n",
            "icon_rain                -0.000000\n",
            "icon_snow                -0.051349\n",
            "icon_wind                 0.000000\n",
            "dtype: float64\n"
          ]
        }
      ],
      "source": [
        "# with the best alpha\n",
        "lasso.set_params(alpha=lassocv.alpha_)\n",
        "lasso.fit(scale(X_train), y_train)\n",
        "print('The coefficients are:')\n",
        "print(pd.Series(lasso.coef_.flatten(), index=X_train.columns))"
      ]
    },
    {
      "cell_type": "code",
      "execution_count": null,
      "id": "0ee64310",
      "metadata": {
        "id": "0ee64310",
        "outputId": "43ee5400-ce6f-4b99-a858-1c948d6ac4d6"
      },
      "outputs": [
        {
          "data": {
            "image/png": "[encoded data removed]",
            "text/plain": [
              "<Figure size 432x288 with 1 Axes>"
            ]
          },
          "metadata": {
            "needs_background": "light"
          },
          "output_type": "display_data"
        }
      ],
      "source": [
        "plt.semilogx(lassocv.alphas_, lassocv.mse_path_, linestyle=\":\")\n",
        "plt.plot(\n",
        "    lassocv.alphas_,\n",
        "    lassocv.mse_path_.mean(axis=-1),\n",
        "    color=\"black\",\n",
        "    label=\"Average across the folds\",\n",
        "    linewidth=2,\n",
        ")\n",
        "plt.axvline(lassocv.alpha_, linestyle=\"--\", color=\"black\", label=\"alpha: CV estimate\")\n",
        "\n",
        "\n",
        "plt.xlabel(r\"$\\alpha$\")\n",
        "plt.ylabel(\"Mean square error\")\n",
        "plt.legend()\n",
        "plt.title(\"MSE\")\n",
        "plt.show()"
      ]
    },
    {
      "cell_type": "code",
      "execution_count": null,
      "id": "ec01b33c",
      "metadata": {
        "id": "ec01b33c",
        "outputId": "b807822a-c2fb-4e17-8a76-7163f487a224"
      },
      "outputs": [
        {
          "name": "stdout",
          "output_type": "stream",
          "text": [
            "MSE is 133.142\n"
          ]
        }
      ],
      "source": [
        "y_pred=lasso.predict(scale(X_test.values))\n",
        "mse_lasso = round(mean_squared_error(y_test, y_pred),3)\n",
        "print(f\"MSE is {mse_lasso}\")"
      ]
    },
    {
      "cell_type": "markdown",
      "id": "8fc3fae0",
      "metadata": {
        "id": "8fc3fae0"
      },
      "source": [
        "## Ridge CV"
      ]
    },
    {
      "cell_type": "code",
      "execution_count": null,
      "id": "2f443bdc",
      "metadata": {
        "id": "2f443bdc",
        "outputId": "b63225a6-4ddc-4828-9d32-b48796ffe37b"
      },
      "outputs": [
        {
          "data": {
            "image/png": "[encoded data removed]",
            "text/plain": [
              "<Figure size 432x288 with 1 Axes>"
            ]
          },
          "metadata": {
            "needs_background": "light"
          },
          "output_type": "display_data"
        }
      ],
      "source": [
        "alphas = 10**np.linspace(-2,5,100)\n",
        "\n",
        "ridge = Ridge()\n",
        "coefs = []\n",
        "\n",
        "for a in alphas:\n",
        "    ridge.set_params(alpha=a)\n",
        "    ridge.fit(scale(X_train), y_train)\n",
        "    coefs.append(ridge.coef_)\n",
        "\n",
        "ax = plt.gca()\n",
        "ax.plot(alphas, coefs)\n",
        "ax.set_xscale('log')\n",
        "ax.set_xlim(ax.get_xlim())\n",
        "plt.axis('tight')\n",
        "plt.xlabel('alpha')\n",
        "plt.ylabel('Coefficients')\n",
        "\n",
        "\n",
        "plt.title('Ridge coefficients as a function of the regularization');"
      ]
    },
    {
      "cell_type": "code",
      "execution_count": null,
      "id": "55c0cf49",
      "metadata": {
        "id": "55c0cf49"
      },
      "outputs": [],
      "source": [
        "# standardize the features\n",
        "from sklearn.preprocessing import StandardScaler\n",
        "\n",
        "scaler = StandardScaler().fit(X_train)"
      ]
    },
    {
      "cell_type": "code",
      "execution_count": null,
      "id": "c4888018",
      "metadata": {
        "id": "c4888018",
        "outputId": "027ceec1-09a8-47c6-8398-7173bd1910f6"
      },
      "outputs": [
        {
          "name": "stdout",
          "output_type": "stream",
          "text": [
            "The coefficients are:\n",
            "tempmax                   0.559432\n",
            "tempmin                   0.484031\n",
            "temp                      0.552915\n",
            "feelslikemax              0.550496\n",
            "feelslikemin              0.499554\n",
            "feelslike                 0.556414\n",
            "dew                       0.324602\n",
            "humidity                 -0.282567\n",
            "precip                   -0.246181\n",
            "precipprob               -0.204025\n",
            "precipcover              -0.327348\n",
            "snow                     -0.352540\n",
            "snowdepth                -0.468283\n",
            "windspeed                -0.202698\n",
            "winddir                  -0.041886\n",
            "sealevelpressure          0.085110\n",
            "cloudcover               -0.145991\n",
            "visibility                0.274305\n",
            "solarradiation            0.327188\n",
            "solarenergy               0.485850\n",
            "uvindex                   0.453176\n",
            "moonphase                 0.303217\n",
            "icon_partly-cloudy-day    0.293995\n",
            "icon_rain                 0.001099\n",
            "icon_snow                -0.401111\n",
            "icon_wind                 0.000000\n",
            "dtype: float64\n"
          ]
        }
      ],
      "source": [
        "# set a large alpha to get smaller coefficients\n",
        "ridge = Ridge(alpha=1000)\n",
        "ridge.fit(scaler.transform(X_train), y_train)\n",
        "\n",
        "print('The coefficients are:')\n",
        "print(pd.Series(ridge.coef_.flatten(), index=X_train.columns))"
      ]
    },
    {
      "cell_type": "code",
      "execution_count": null,
      "id": "bdb782fd",
      "metadata": {
        "id": "bdb782fd",
        "outputId": "e90b7d55-c081-4261-d0f5-1e55982a9190"
      },
      "outputs": [
        {
          "name": "stdout",
          "output_type": "stream",
          "text": [
            "The best alpha from RidgeCV: 65.79332246575676\n"
          ]
        }
      ],
      "source": [
        "# find the best alpha via CV with selected scoring metric\n",
        "ridgecv = RidgeCV(alphas=alphas, scoring='neg_mean_squared_error')\n",
        "ridgecv.fit(scale(X_train), y_train)\n",
        "\n",
        "print('The best alpha from RidgeCV:', ridgecv.alpha_)"
      ]
    },
    {
      "cell_type": "code",
      "execution_count": null,
      "id": "36f6b2ed",
      "metadata": {
        "id": "36f6b2ed",
        "outputId": "3b3e6e73-b4e4-499c-e1ef-6f832d1909ce"
      },
      "outputs": [
        {
          "name": "stdout",
          "output_type": "stream",
          "text": [
            "The coefficients are:\n",
            "tempmax                   1.523963\n",
            "tempmin                   1.239480\n",
            "temp                      1.612245\n",
            "feelslikemax              1.343719\n",
            "feelslikemin              1.141592\n",
            "feelslike                 1.527834\n",
            "dew                       0.768023\n",
            "humidity                 -1.343253\n",
            "precip                   -0.174455\n",
            "precipprob               -0.275417\n",
            "precipcover              -1.028967\n",
            "snow                     -0.564660\n",
            "snowdepth                -2.225236\n",
            "windspeed                -1.389369\n",
            "winddir                  -0.427958\n",
            "sealevelpressure          0.705765\n",
            "cloudcover               -0.001681\n",
            "visibility                1.125455\n",
            "solarradiation            0.065044\n",
            "solarenergy               1.417056\n",
            "uvindex                   1.168872\n",
            "moonphase                 1.882597\n",
            "icon_partly-cloudy-day    0.516309\n",
            "icon_rain                 0.076098\n",
            "icon_snow                -0.795052\n",
            "icon_wind                 0.000000\n",
            "dtype: float64\n"
          ]
        }
      ],
      "source": [
        "# with the best alpha\n",
        "ridge.set_params(alpha=ridgecv.alpha_)\n",
        "ridge.fit(scale(X_train), y_train)\n",
        "print('The coefficients are:')\n",
        "print(pd.Series(ridge.coef_.flatten(), index=X_train.columns))"
      ]
    },
    {
      "cell_type": "code",
      "execution_count": null,
      "id": "e9b2e93b",
      "metadata": {
        "id": "e9b2e93b",
        "outputId": "99ba5fdb-6f60-47f8-a561-650e4aa504dd"
      },
      "outputs": [
        {
          "name": "stdout",
          "output_type": "stream",
          "text": [
            "MSE is 128.597\n"
          ]
        }
      ],
      "source": [
        "y_pred=ridge.predict(scale(X_test.values))\n",
        "mse_ridge = round(mean_squared_error(y_test, y_pred),3)\n",
        "print(f\"MSE is {mse_ridge}\")"
      ]
    },
    {
      "cell_type": "markdown",
      "id": "72e3d52f",
      "metadata": {
        "id": "72e3d52f"
      },
      "source": [
        "## Elastic net"
      ]
    },
    {
      "cell_type": "code",
      "execution_count": null,
      "id": "68ce22b8",
      "metadata": {
        "id": "68ce22b8",
        "outputId": "1728ac6a-8776-4074-bc3a-823fd35e7a25"
      },
      "outputs": [
        {
          "name": "stdout",
          "output_type": "stream",
          "text": [
            "The best alpha from ElasticNetCV: 0.8000497261907156\n"
          ]
        }
      ],
      "source": [
        "from sklearn.linear_model import ElasticNet\n",
        "from sklearn.linear_model import ElasticNetCV\n",
        "\n",
        "ENcv = ElasticNetCV(alphas=None, cv=10, max_iter=10000) # default l1_ratio=0.5\n",
        "ENcv.fit(scale(X_train), y_train)\n",
        "\n",
        "print('The best alpha from ElasticNetCV:', ENcv.alpha_)"
      ]
    },
    {
      "cell_type": "code",
      "execution_count": null,
      "id": "ade69f45",
      "metadata": {
        "id": "ade69f45",
        "outputId": "8a43669f-c016-4db9-fd52-79b4cf481873"
      },
      "outputs": [
        {
          "name": "stdout",
          "output_type": "stream",
          "text": [
            "The coefficients are:\n",
            "tempmax                   1.709979\n",
            "tempmin                   1.225950\n",
            "temp                      1.971675\n",
            "feelslikemax              1.301766\n",
            "feelslikemin              0.974971\n",
            "feelslike                 1.783743\n",
            "dew                       0.482155\n",
            "humidity                 -1.476576\n",
            "precip                   -0.000000\n",
            "precipprob               -0.000000\n",
            "precipcover              -1.203158\n",
            "snow                     -0.259797\n",
            "snowdepth                -2.780053\n",
            "windspeed                -1.917766\n",
            "winddir                  -0.223894\n",
            "sealevelpressure          0.662049\n",
            "cloudcover                0.000000\n",
            "visibility                1.333035\n",
            "solarradiation           -0.000000\n",
            "solarenergy               1.625183\n",
            "uvindex                   1.040007\n",
            "moonphase                 2.185131\n",
            "icon_partly-cloudy-day    0.281284\n",
            "icon_rain                -0.000000\n",
            "icon_snow                -0.697454\n",
            "icon_wind                 0.000000\n",
            "dtype: float64\n"
          ]
        }
      ],
      "source": [
        "# with the best alpha\n",
        "lasso.set_params(alpha=lassocv.alpha_)\n",
        "lasso.fit(scale(X_train), y_train)\n",
        "\n",
        "\n",
        "EN=ElasticNet()\n",
        "EN.set_params(alpha=ENcv.alpha_)\n",
        "EN.fit(scale(X_train), y_train)\n",
        "\n",
        "print('The coefficients are:')\n",
        "print(pd.Series(EN.coef_.flatten(), index=X_train.columns))"
      ]
    },
    {
      "cell_type": "code",
      "execution_count": null,
      "id": "2aca9413",
      "metadata": {
        "id": "2aca9413",
        "outputId": "0d78cde9-093c-4f3d-d769-7b977037d9f5"
      },
      "outputs": [
        {
          "name": "stdout",
          "output_type": "stream",
          "text": [
            "Test MSE for ElasticNet is 129.268\n"
          ]
        }
      ],
      "source": [
        "y_pred = EN.predict(scale(X_test.values))\n",
        "mse_EN = round(mean_squared_error(y_test, y_pred), 3)\n",
        "print(f\"Test MSE for ElasticNet is {mse_EN}\")"
      ]
    },
    {
      "cell_type": "markdown",
      "id": "11810a64",
      "metadata": {
        "id": "11810a64"
      },
      "source": [
        "## KNN"
      ]
    },
    {
      "cell_type": "code",
      "execution_count": null,
      "id": "41932314",
      "metadata": {
        "id": "41932314"
      },
      "outputs": [],
      "source": [
        "from sklearn import neighbors\n",
        "from sklearn.metrics import mean_squared_error\n",
        "import matplotlib.pyplot as plt\n",
        "mse_train = [-1]*30\n",
        "mse_test = [-1]*30\n",
        "for K in range(30):\n",
        "    model = neighbors.KNeighborsRegressor(n_neighbors = K+1)\n",
        "    model.fit(X_train, y_train)  #fit the model\n",
        "    mse_train[K] = mean_squared_error(y_train, model.predict(X_train))\n",
        "    mse_test[K] = mean_squared_error(y_test, model.predict(X_test))\n"
      ]
    },
    {
      "cell_type": "code",
      "execution_count": null,
      "id": "d35c2b61",
      "metadata": {
        "id": "d35c2b61",
        "outputId": "4950ce99-3b1c-4378-d30d-a80cee4a9e4e"
      },
      "outputs": [
        {
          "data": {
            "image/png": "[encoded data removed]",
            "text/plain": [
              "<Figure size 864x648 with 1 Axes>"
            ]
          },
          "metadata": {
            "needs_background": "light"
          },
          "output_type": "display_data"
        }
      ],
      "source": [
        "import matplotlib.pyplot as plt\n",
        "fig, ax1 = plt.subplots(figsize=(12, 9))\n",
        "plt.plot(np.arange(30)+1, mse_train,  color = 'blue', marker = '.', markersize = 8, markeredgecolor = 'black', markerfacecolor = 'black',label = 'mse_train')\n",
        "plt.plot(np.arange(30)+1, mse_test,  color = 'red',marker = '.', markersize = 8, markeredgecolor = 'black', markerfacecolor = 'black', label = 'mse_test')\n",
        "plt.legend(fontsize=18)\n",
        "plt.title('MSE with different Ks', fontsize=22)\n",
        "plt.tick_params(labelsize=18)\n",
        "plt.show()"
      ]
    },
    {
      "cell_type": "code",
      "execution_count": null,
      "id": "b54ff25a",
      "metadata": {
        "id": "b54ff25a",
        "outputId": "f182d888-5613-4b39-99fd-46bee5ffef16"
      },
      "outputs": [
        {
          "data": {
            "text/plain": [
              "3"
            ]
          },
          "execution_count": 37,
          "metadata": {},
          "output_type": "execute_result"
        }
      ],
      "source": [
        "# optimal k\n",
        "np.argmin(mse_test)+1"
      ]
    },
    {
      "cell_type": "code",
      "execution_count": null,
      "id": "11258bec",
      "metadata": {
        "id": "11258bec",
        "outputId": "6f36d77f-c76c-46bb-e65a-6965417218c1"
      },
      "outputs": [
        {
          "data": {
            "text/plain": [
              "210.54398148148144"
            ]
          },
          "execution_count": 38,
          "metadata": {},
          "output_type": "execute_result"
        }
      ],
      "source": [
        "# optimal MSE\n",
        "min(mse_test)"
      ]
    },
    {
      "cell_type": "markdown",
      "id": "de78fc4c",
      "metadata": {
        "id": "de78fc4c"
      },
      "source": [
        "## You will try other methods (e.g., KNN) and tune hyperparameters when necessary"
      ]
    },
    {
      "cell_type": "code",
      "execution_count": null,
      "id": "c3a4d2df",
      "metadata": {
        "id": "c3a4d2df",
        "outputId": "82898de9-3eb6-4216-b938-38825c2c0605"
      },
      "outputs": [
        {
          "name": "stdout",
          "output_type": "stream",
          "text": [
            "               Model         MSE Hyperparameters\n",
            "0  Linear Regression  233.961000             N/A\n",
            "1                KNN  210.543981           k = 7\n",
            "2           Lasso CV  133.142000        0.722081\n",
            "3           Ridge CV  128.597000       65.793322\n",
            "4        Elastic Net  129.268000         0.80005\n"
          ]
        }
      ],
      "source": [
        "import pandas as pd\n",
        "\n",
        "# Define data\n",
        "mse_values = [mse_lr, min(mse_test), mse_lasso, mse_ridge, mse_EN]\n",
        "hyperparameters = [\n",
        "    'N/A',\n",
        "    'k = 7',\n",
        "     lassocv.alpha_,\n",
        "    ridgecv.alpha_,\n",
        "    ENcv.alpha_\n",
        "]\n",
        "model_names = ['Linear Regression', 'KNN', 'Lasso CV', 'Ridge CV', 'Elastic Net']\n",
        "\n",
        "# Create table\n",
        "df = pd.DataFrame({\n",
        "    'Model': model_names,\n",
        "    'MSE': mse_values,\n",
        "    'Hyperparameters': hyperparameters\n",
        "})\n",
        "\n",
        "# Print table\n",
        "print(df)"
      ]
    },
    {
      "cell_type": "markdown",
      "id": "23e756ee",
      "metadata": {
        "id": "23e756ee"
      },
      "source": [
        "### Scenario 1"
      ]
    },
    {
      "cell_type": "code",
      "execution_count": null,
      "id": "57d55c7b",
      "metadata": {
        "id": "57d55c7b",
        "outputId": "fd3e376f-731a-44d6-8a1a-7d543a648b08"
      },
      "outputs": [
        {
          "data": {
            "text/html": [
              "<div>\n",
              "<style scoped>\n",
              "    .dataframe tbody tr th:only-of-type {\n",
              "        vertical-align: middle;\n",
              "    }\n",
              "\n",
              "    .dataframe tbody tr th {\n",
              "        vertical-align: top;\n",
              "    }\n",
              "\n",
              "    .dataframe thead th {\n",
              "        text-align: right;\n",
              "    }\n",
              "</style>\n",
              "<table border=\"1\" class=\"dataframe\">\n",
              "  <thead>\n",
              "    <tr style=\"text-align: right;\">\n",
              "      <th></th>\n",
              "      <th>tempmax</th>\n",
              "      <th>tempmin</th>\n",
              "      <th>temp</th>\n",
              "      <th>feelslikemax</th>\n",
              "      <th>feelslikemin</th>\n",
              "      <th>feelslike</th>\n",
              "      <th>dew</th>\n",
              "      <th>humidity</th>\n",
              "      <th>precip</th>\n",
              "      <th>precipprob</th>\n",
              "      <th>...</th>\n",
              "      <th>cloudcover</th>\n",
              "      <th>visibility</th>\n",
              "      <th>solarradiation</th>\n",
              "      <th>solarenergy</th>\n",
              "      <th>uvindex</th>\n",
              "      <th>moonphase</th>\n",
              "      <th>icon_partly-cloudy-day</th>\n",
              "      <th>icon_rain</th>\n",
              "      <th>icon_snow</th>\n",
              "      <th>icon_wind</th>\n",
              "    </tr>\n",
              "  </thead>\n",
              "  <tbody>\n",
              "    <tr>\n",
              "      <th>66</th>\n",
              "      <td>51.8</td>\n",
              "      <td>36.5</td>\n",
              "      <td>44.5</td>\n",
              "      <td>51.8</td>\n",
              "      <td>30.0</td>\n",
              "      <td>41.9</td>\n",
              "      <td>31.6</td>\n",
              "      <td>63.1</td>\n",
              "      <td>0.0</td>\n",
              "      <td>0</td>\n",
              "      <td>...</td>\n",
              "      <td>87.6</td>\n",
              "      <td>9.6</td>\n",
              "      <td>100.8</td>\n",
              "      <td>8.6</td>\n",
              "      <td>5</td>\n",
              "      <td>0.25</td>\n",
              "      <td>1</td>\n",
              "      <td>0</td>\n",
              "      <td>0</td>\n",
              "      <td>0</td>\n",
              "    </tr>\n",
              "  </tbody>\n",
              "</table>\n",
              "<p>1 rows × 26 columns</p>\n",
              "</div>"
            ],
            "text/plain": [
              "    tempmax  tempmin  temp  feelslikemax  feelslikemin  feelslike   dew  \\\n",
              "66     51.8     36.5  44.5          51.8          30.0       41.9  31.6   \n",
              "\n",
              "    humidity  precip  precipprob  ...  cloudcover  visibility  solarradiation  \\\n",
              "66      63.1     0.0           0  ...        87.6         9.6           100.8   \n",
              "\n",
              "    solarenergy  uvindex  moonphase  icon_partly-cloudy-day  icon_rain  \\\n",
              "66          8.6        5       0.25                       1          0   \n",
              "\n",
              "    icon_snow  icon_wind  \n",
              "66          0          0  \n",
              "\n",
              "[1 rows x 26 columns]"
            ]
          },
          "execution_count": 40,
          "metadata": {},
          "output_type": "execute_result"
        }
      ],
      "source": [
        "X_test.iloc[[1]]"
      ]
    },
    {
      "cell_type": "code",
      "execution_count": null,
      "id": "e3327317",
      "metadata": {
        "id": "e3327317",
        "outputId": "c52727d0-0e01-4748-b5c8-4ba5069eca8a"
      },
      "outputs": [
        {
          "data": {
            "text/plain": [
              "array([[-0.31429148, -0.14236333, -0.16762738, -0.17148361, -0.1570302 ,\n",
              "        -0.07539168,  0.04788074,  0.38650552, -0.46071197, -0.74535599,\n",
              "        -0.57768727, -0.33973241, -0.33383682, -0.87540904, -1.48067079,\n",
              "         0.20104645,  0.85839154,  0.30669374,  0.12146072,  0.18644612,\n",
              "         0.065861  , -0.82550601,  0.8660254 , -0.61036794, -0.43178777,\n",
              "         0.        ]])"
            ]
          },
          "execution_count": 41,
          "metadata": {},
          "output_type": "execute_result"
        }
      ],
      "source": [
        "scaler.transform(X_test.iloc[[1]])"
      ]
    },
    {
      "cell_type": "code",
      "execution_count": null,
      "id": "b8f14498",
      "metadata": {
        "id": "b8f14498",
        "outputId": "c523723f-211a-4889-c395-d5f4a19edbaa"
      },
      "outputs": [
        {
          "name": "stdout",
          "output_type": "stream",
          "text": [
            "[37.1170163]\n"
          ]
        }
      ],
      "source": [
        "y_pred1 = lasso.predict(scaler.transform(X_test.iloc[[1]]))\n",
        "print(y_pred1)\n"
      ]
    },
    {
      "cell_type": "code",
      "execution_count": null,
      "id": "62e391be",
      "metadata": {
        "id": "62e391be",
        "outputId": "3d91ce49-fa8d-4e40-e1d6-967af12f1ea5"
      },
      "outputs": [
        {
          "data": {
            "text/plain": [
              "66    45\n",
              "Name: do_ct, dtype: int64"
            ]
          },
          "execution_count": 43,
          "metadata": {},
          "output_type": "execute_result"
        }
      ],
      "source": [
        "y_test.iloc[[1]]"
      ]
    },
    {
      "cell_type": "markdown",
      "id": "7efd119b",
      "metadata": {
        "id": "7efd119b"
      },
      "source": [
        "### Scenario 2"
      ]
    },
    {
      "cell_type": "code",
      "execution_count": null,
      "id": "8106d88b",
      "metadata": {
        "id": "8106d88b",
        "outputId": "7deec805-2309-4253-c218-ba422c0a9471"
      },
      "outputs": [
        {
          "data": {
            "text/html": [
              "<div>\n",
              "<style scoped>\n",
              "    .dataframe tbody tr th:only-of-type {\n",
              "        vertical-align: middle;\n",
              "    }\n",
              "\n",
              "    .dataframe tbody tr th {\n",
              "        vertical-align: top;\n",
              "    }\n",
              "\n",
              "    .dataframe thead th {\n",
              "        text-align: right;\n",
              "    }\n",
              "</style>\n",
              "<table border=\"1\" class=\"dataframe\">\n",
              "  <thead>\n",
              "    <tr style=\"text-align: right;\">\n",
              "      <th></th>\n",
              "      <th>tempmax</th>\n",
              "      <th>tempmin</th>\n",
              "      <th>temp</th>\n",
              "      <th>feelslikemax</th>\n",
              "      <th>feelslikemin</th>\n",
              "      <th>feelslike</th>\n",
              "      <th>dew</th>\n",
              "      <th>humidity</th>\n",
              "      <th>precip</th>\n",
              "      <th>precipprob</th>\n",
              "      <th>...</th>\n",
              "      <th>cloudcover</th>\n",
              "      <th>visibility</th>\n",
              "      <th>solarradiation</th>\n",
              "      <th>solarenergy</th>\n",
              "      <th>uvindex</th>\n",
              "      <th>moonphase</th>\n",
              "      <th>icon_partly-cloudy-day</th>\n",
              "      <th>icon_rain</th>\n",
              "      <th>icon_snow</th>\n",
              "      <th>icon_wind</th>\n",
              "    </tr>\n",
              "  </thead>\n",
              "  <tbody>\n",
              "    <tr>\n",
              "      <th>34</th>\n",
              "      <td>34.9</td>\n",
              "      <td>26.6</td>\n",
              "      <td>31.2</td>\n",
              "      <td>24.7</td>\n",
              "      <td>17.2</td>\n",
              "      <td>20.8</td>\n",
              "      <td>14.2</td>\n",
              "      <td>49.7</td>\n",
              "      <td>0.0</td>\n",
              "      <td>0</td>\n",
              "      <td>...</td>\n",
              "      <td>45.2</td>\n",
              "      <td>9.9</td>\n",
              "      <td>104.9</td>\n",
              "      <td>9.2</td>\n",
              "      <td>6</td>\n",
              "      <td>0.11</td>\n",
              "      <td>1</td>\n",
              "      <td>0</td>\n",
              "      <td>0</td>\n",
              "      <td>0</td>\n",
              "    </tr>\n",
              "  </tbody>\n",
              "</table>\n",
              "<p>1 rows × 26 columns</p>\n",
              "</div>"
            ],
            "text/plain": [
              "    tempmax  tempmin  temp  feelslikemax  feelslikemin  feelslike   dew  \\\n",
              "34     34.9     26.6  31.2          24.7          17.2       20.8  14.2   \n",
              "\n",
              "    humidity  precip  precipprob  ...  cloudcover  visibility  solarradiation  \\\n",
              "34      49.7     0.0           0  ...        45.2         9.9           104.9   \n",
              "\n",
              "    solarenergy  uvindex  moonphase  icon_partly-cloudy-day  icon_rain  \\\n",
              "34          9.2        6       0.11                       1          0   \n",
              "\n",
              "    icon_snow  icon_wind  \n",
              "34          0          0  \n",
              "\n",
              "[1 rows x 26 columns]"
            ]
          },
          "execution_count": 44,
          "metadata": {},
          "output_type": "execute_result"
        }
      ],
      "source": [
        "X_test.iloc[[2]]"
      ]
    },
    {
      "cell_type": "code",
      "execution_count": null,
      "id": "d6b4fc0c",
      "metadata": {
        "id": "d6b4fc0c",
        "outputId": "e8b9124e-da2a-4906-e4a6-43aeba47e3cc"
      },
      "outputs": [
        {
          "name": "stdout",
          "output_type": "stream",
          "text": [
            "[20.86144052]\n"
          ]
        }
      ],
      "source": [
        "y_pred2 = lasso.predict(scaler.transform(X_test.iloc[[2]]))\n",
        "print(y_pred2)"
      ]
    },
    {
      "cell_type": "code",
      "execution_count": null,
      "id": "bc559f75",
      "metadata": {
        "id": "bc559f75",
        "outputId": "949b48ae-9d29-4d99-98bf-d7d4fcf40a0a"
      },
      "outputs": [
        {
          "data": {
            "text/plain": [
              "34    10\n",
              "Name: do_ct, dtype: int64"
            ]
          },
          "execution_count": 46,
          "metadata": {},
          "output_type": "execute_result"
        }
      ],
      "source": [
        "y_test.iloc[[2]]"
      ]
    },
    {
      "cell_type": "code",
      "execution_count": null,
      "id": "2581a510",
      "metadata": {
        "id": "2581a510"
      },
      "outputs": [],
      "source": []
    },
    {
      "cell_type": "code",
      "execution_count": null,
      "id": "bfc64610",
      "metadata": {
        "id": "bfc64610"
      },
      "outputs": [],
      "source": []
    },
    {
      "cell_type": "code",
      "execution_count": null,
      "id": "242ecab0",
      "metadata": {
        "id": "242ecab0"
      },
      "outputs": [],
      "source": []
    },
    {
      "cell_type": "code",
      "execution_count": null,
      "id": "386566f4",
      "metadata": {
        "id": "386566f4"
      },
      "outputs": [],
      "source": []
    },
    {
      "cell_type": "code",
      "execution_count": null,
      "id": "a0b19d01",
      "metadata": {
        "id": "a0b19d01"
      },
      "outputs": [],
      "source": []
    },
    {
      "cell_type": "code",
      "execution_count": null,
      "id": "2b9245c1",
      "metadata": {
        "id": "2b9245c1"
      },
      "outputs": [],
      "source": []
    }
  ],
  "metadata": {
    "kernelspec": {
      "display_name": "Python 3 (ipykernel)",
      "language": "python",
      "name": "python3"
    },
    "language_info": {
      "codemirror_mode": {
        "name": "ipython",
        "version": 3
      },
      "file_extension": ".py",
      "mimetype": "text/x-python",
      "name": "python",
      "nbconvert_exporter": "python",
      "pygments_lexer": "ipython3",
      "version": "3.9.12"
    },
    "colab": {
      "provenance": []
    }
  },
  "nbformat": 4,
  "nbformat_minor": 5
}